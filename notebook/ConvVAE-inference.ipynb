{
 "cells": [
  {
   "cell_type": "markdown",
   "id": "94fec96a",
   "metadata": {},
   "source": [
    "# Set up"
   ]
  },
  {
   "cell_type": "code",
   "execution_count": null,
   "id": "eb46610b",
   "metadata": {},
   "outputs": [],
   "source": [
    "import os\n",
    "import sys\n",
    "\n",
    "module_path = os.path.abspath(os.path.join('../src/'))\n",
    "print(module_path)\n",
    "if module_path not in sys.path:\n",
    "    sys.path.append(module_path)"
   ]
  },
  {
   "cell_type": "code",
   "execution_count": null,
   "id": "f478fc2e",
   "metadata": {},
   "outputs": [],
   "source": [
    "import glob\n",
    "import random\n",
    "import pickle\n",
    "import numpy as np\n",
    "import pandas as pd\n",
    "import matplotlib as mpl\n",
    "import matplotlib.pyplot as plt\n",
    "import plotly.express as px\n",
    "import seaborn as sns\n",
    "import nibabel as nib\n",
    "from tqdm.auto import tqdm\n",
    "from collections import Counter\n",
    "\n",
    "from data.BundleData import *\n",
    "from data.data_util import *\n",
    "from utils.general_util import *\n",
    "from model.model import *\n",
    "from evaluation import *"
   ]
  },
  {
   "cell_type": "code",
   "execution_count": null,
   "id": "1cb1f962",
   "metadata": {},
   "outputs": [],
   "source": [
    "SEED = 2022\n",
    "DEVICE_NUM = 5\n",
    "set_seed(seed=SEED)\n",
    "DEVICE = set_device()\n",
    "if DEVICE == 'cuda':\n",
    "    torch.cuda.set_device(DEVICE_NUM)\n",
    "    print(torch.cuda.device_count(), \n",
    "          torch.cuda.current_device(),\n",
    "          torch.cuda.get_device_name(DEVICE_NUM))"
   ]
  },
  {
   "cell_type": "code",
   "execution_count": null,
   "id": "d8483b20",
   "metadata": {},
   "outputs": [],
   "source": [
    "model_folder = \"../results/models/\"\n",
    "plot_folder = \"../results/plots/\"\n",
    "result_data_folder = \"../results/data/\"\n",
    "log_folder = \"../results/logs/\"\n",
    "data_files_folder = \"../data_files/\"\n",
    "\n",
    "# CHANGE DATA FOLDER BELOW\n",
    "data_folder = \"\""
   ]
  },
  {
   "cell_type": "markdown",
   "id": "3f572c8b",
   "metadata": {},
   "source": [
    "# Inference\n",
    "\n",
    "This portion is using a metadata file to get CN/MCI/AD subjects for inference. Ignore if not applicable"
   ]
  },
  {
   "cell_type": "markdown",
   "id": "c903b635",
   "metadata": {},
   "source": [
    "## Get subj IDs"
   ]
  },
  {
   "cell_type": "code",
   "execution_count": null,
   "id": "b119a1cf",
   "metadata": {},
   "outputs": [],
   "source": [
    "df_meta = pd.read_csv(data_files_folder + \"metadata.csv\")"
   ]
  },
  {
   "cell_type": "code",
   "execution_count": null,
   "id": "c6f5add5",
   "metadata": {},
   "outputs": [],
   "source": [
    "def select_subject(df, dx='CN', n_subj=5, \n",
    "                   subj_train='007_S_6120_20171117_A3_DWI_S127',\n",
    "                   data_folder='.'):\n",
    "    set_seed(SEED)\n",
    "    df_selected = df[(df.DX==dx) & (df.Subject != subj_train)]\n",
    "    \n",
    "    if n_subj:\n",
    "        idx = np.random.choice(len(df_dx), n_subj, replace=False)\n",
    "        df_selected = df_dx.iloc[idx]\n",
    "    print(f\"Selected {len(df_selected)} {dx} subject.\")\n",
    "    \n",
    "    return df_selected"
   ]
  },
  {
   "cell_type": "code",
   "execution_count": null,
   "id": "49af911e",
   "metadata": {},
   "outputs": [],
   "source": [
    "subj_cn = select_subject(df_meta, 'CN', None, data_folder=data_folder)\n",
    "subj_mci = select_subject(df_meta, 'MCI', None, data_folder=data_folder)\n",
    "subj_ad = select_subject(df_meta, 'Dementia', None, data_folder=data_folder)\n",
    "print(subj_cn.shape, subj_mci.shape, subj_ad.shape)"
   ]
  },
  {
   "cell_type": "markdown",
   "id": "7c1d12c8",
   "metadata": {},
   "source": [
    "## Run inference script"
   ]
  },
  {
   "cell_type": "code",
   "execution_count": null,
   "id": "026c732c",
   "metadata": {},
   "outputs": [],
   "source": [
    "'''Select which model to perform inference on'''\n",
    "\n",
    "subj_setting = 'CN10'\n",
    "model_setting = 'convVAE3L_XUXU_Z2_B512_LR2E-04_WD1E-03_GCN2E+00' \n",
    "epoch = 100\n",
    "model_type = \"checkpoint\"\n",
    "model_subfolder = f\"{model_setting}_{subj_setting}\"\n",
    "print(model_subfolder)"
   ]
  },
  {
   "cell_type": "code",
   "execution_count": null,
   "id": "90f85dfc",
   "metadata": {},
   "outputs": [],
   "source": [
    "# Check if inferenced was done on subject if so ignore in the following steps\n",
    "subj_inferred = []\n",
    "for f in glob.glob(f\"{result_data_folder}{model_subfolder}/*\"):\n",
    "    if f.split(\"/\")[-1].startswith(\"E\"):\n",
    "        subj_inferred.append(f.split(\"/\")[-1].split(\"_\",1)[1].split(\".\")[0])\n",
    "len(subj_inferred)"
   ]
  },
  {
   "cell_type": "code",
   "execution_count": null,
   "id": "e53938e7",
   "metadata": {},
   "outputs": [],
   "source": [
    "'''Get subjects to infer on'''\n",
    "\n",
    "subjs = [\"Subj01\", \"Subj02\", \"Subj03\"]\n",
    "subj_str = \" \".join(set(subjs)-set(subj_inferred))\n",
    "subj_str"
   ]
  },
  {
   "cell_type": "code",
   "execution_count": null,
   "id": "897ac7d6",
   "metadata": {},
   "outputs": [],
   "source": [
    "!python ../src/inference.py --model_name {model_subfolder} \\\n",
    "                        --epoch {epoch} \\\n",
    "                        --seed {SEED} \\\n",
    "                        --subj_list {subj_str} \\\n",
    "                        --device {DEVICE} \\\n",
    "                        --device_num {DEVICE_NUM} \\\n",
    "                        --model_type {model_type} \\\n",
    "                        --data_folder {data_folder} \\\n",
    "                        --model_folder {model_folder} \\\n",
    "                        --result_data_folder {result_data_folder}"
   ]
  }
 ],
 "metadata": {
  "kernelspec": {
   "display_name": "Python 3 (ipykernel)",
   "language": "python",
   "name": "python3"
  },
  "language_info": {
   "codemirror_mode": {
    "name": "ipython",
    "version": 3
   },
   "file_extension": ".py",
   "mimetype": "text/x-python",
   "name": "python",
   "nbconvert_exporter": "python",
   "pygments_lexer": "ipython3",
   "version": "3.9.12"
  },
  "toc": {
   "base_numbering": 1,
   "nav_menu": {},
   "number_sections": true,
   "sideBar": true,
   "skip_h1_title": false,
   "title_cell": "Table of Contents",
   "title_sidebar": "Contents",
   "toc_cell": false,
   "toc_position": {
    "height": "calc(100% - 180px)",
    "left": "10px",
    "top": "150px",
    "width": "175.764px"
   },
   "toc_section_display": true,
   "toc_window_display": true
  }
 },
 "nbformat": 4,
 "nbformat_minor": 5
}
