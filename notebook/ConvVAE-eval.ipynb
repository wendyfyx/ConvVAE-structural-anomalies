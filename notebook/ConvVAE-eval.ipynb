{
 "cells": [
  {
   "cell_type": "markdown",
   "metadata": {},
   "source": [
    "# Set up"
   ]
  },
  {
   "cell_type": "code",
   "execution_count": null,
   "metadata": {},
   "outputs": [],
   "source": [
    "import os\n",
    "import sys\n",
    "\n",
    "module_path = os.path.abspath(os.path.join('../src/'))\n",
    "print(module_path)\n",
    "if module_path not in sys.path:\n",
    "    sys.path.append(module_path)"
   ]
  },
  {
   "cell_type": "code",
   "execution_count": null,
   "metadata": {},
   "outputs": [],
   "source": [
    "%reload_ext autoreload\n",
    "%autoreload 2\n",
    "    \n",
    "import glob\n",
    "import random\n",
    "import pickle\n",
    "import scipy\n",
    "import numpy as np\n",
    "import pandas as pd\n",
    "import matplotlib as mpl\n",
    "import matplotlib.pyplot as plt\n",
    "import plotly.express as px\n",
    "import seaborn as sns\n",
    "import nibabel as nib\n",
    "from tqdm.auto import tqdm\n",
    "from collections import Counter\n",
    "from itertools import combinations, permutations\n",
    "\n",
    "import dipy\n",
    "from dipy.segment.metric import mdf\n",
    "from dipy.viz import window, actor\n",
    "\n",
    "from data.FiberData import FiberData\n",
    "from data.BundleData import BundleData\n",
    "from data.data_util import *\n",
    "from utils.general_util import *\n",
    "from utils.plot_util import *\n",
    "from utils.line_fit import *\n",
    "from model.model import *\n",
    "from evaluation import *\n",
    "from inference import *"
   ]
  },
  {
   "cell_type": "code",
   "execution_count": null,
   "metadata": {},
   "outputs": [],
   "source": [
    "SEED = 2022\n",
    "DEVICE_NUM = 5\n",
    "set_seed(seed=SEED)\n",
    "DEVICE = set_device()\n",
    "if DEVICE == 'cuda':\n",
    "    torch.cuda.set_device(DEVICE_NUM)\n",
    "    print(torch.cuda.device_count(), \n",
    "          torch.cuda.current_device(),\n",
    "          torch.cuda.get_device_name(DEVICE_NUM))"
   ]
  },
  {
   "cell_type": "code",
   "execution_count": null,
   "metadata": {},
   "outputs": [],
   "source": [
    "result_folder = \"../results/\"\n",
    "model_folder = f\"{result_folder}models/\"\n",
    "plot_folder = f\"{result_folder}plots/\"\n",
    "result_data_folder = f\"{result_folder}data/\"\n",
    "log_folder = f\"{result_folder}logs/\"\n",
    "eval_folder = f\"{result_folder}evals/\"\n",
    "data_files_folder = \"../data_files/\"\n",
    "\n",
    "# CHANGE DATA FOLDER BELOW\n",
    "data_folder = \"\""
   ]
  },
  {
   "cell_type": "markdown",
   "metadata": {},
   "source": [
    "# Load Training Data"
   ]
  },
  {
   "cell_type": "markdown",
   "metadata": {},
   "source": [
    "Change the code below for selecting training subjects accordingly."
   ]
  },
  {
   "cell_type": "code",
   "execution_count": null,
   "metadata": {},
   "outputs": [],
   "source": [
    "'''Load metadata with bundle count and streamline count'''\n",
    "df_meta = pd.read_csv(data_files_folder + \"metadata.csv\")\n",
    "print(df_meta.shape)\n",
    "print(df_meta.DX.value_counts())"
   ]
  },
  {
   "cell_type": "code",
   "execution_count": null,
   "metadata": {},
   "outputs": [],
   "source": [
    "'''Select CN and sort by bundles then streamlines, Select subject to be trained on'''\n",
    "df_tmp = df_meta.loc[df_meta.DX=='CN'].sort_values(by=['bundle_count','streamline_count'], \n",
    "                                          ascending=False)\n",
    "n_subj = 10\n",
    "subjs_train = df_tmp[:n_subj].Subject.values\n",
    "print(len(subjs_train))"
   ]
  },
  {
   "cell_type": "code",
   "execution_count": null,
   "metadata": {},
   "outputs": [],
   "source": [
    "'''Get training data statistics'''\n",
    "df_train = df_meta[df_meta.Subject.isin(subjs_train)]\n",
    "print(df_train.Sex.value_counts())\n",
    "df_train"
   ]
  },
  {
   "cell_type": "code",
   "execution_count": null,
   "metadata": {
    "scrolled": true
   },
   "outputs": [],
   "source": [
    "%%time\n",
    "args = {'n_points' : 256, 'n_lines' : None, 'min_lines' : 2, \n",
    "        'tracts_exclude' : ['CST_L_s', 'CST_R_s'],'preprocess' : '3d', \n",
    "        'rng' : None, 'verbose': False, 'data_folder' : data_folder}\n",
    "\n",
    "data = FiberData(subjs_train, **args)\n",
    "data.X.shape"
   ]
  },
  {
   "cell_type": "markdown",
   "metadata": {},
   "source": [
    "# Load Inference Data"
   ]
  },
  {
   "cell_type": "markdown",
   "metadata": {},
   "source": [
    "## Load Inference from Subject"
   ]
  },
  {
   "cell_type": "code",
   "execution_count": null,
   "metadata": {},
   "outputs": [],
   "source": [
    "def load_inference(subj_name, model_subfolder, \n",
    "                   result_data_folder, data_folder,\n",
    "                   epoch, seed=0):\n",
    "    \n",
    "    data_args = {'n_points' : 256, 'n_lines' : None, 'min_lines' : 2, \n",
    "                'tracts_exclude' : ['CST_L_s', 'CST_R_s'], 'preprocess' : '3d', \n",
    "                'rng' : np.random.RandomState(seed), 'verbose': False, \n",
    "                'data_folder' : data_folder}\n",
    "\n",
    "    subj = BundleData(subj_name, **data_args)    \n",
    "    subj.load_inference_data(f\"{result_data_folder}{model_subfolder}/E{epoch}_{subj_name}\")\n",
    "    return subj"
   ]
  },
  {
   "cell_type": "code",
   "execution_count": null,
   "metadata": {},
   "outputs": [],
   "source": [
    "zdim = 6\n",
    "n_subj_load = 10\n",
    "model_subfolder = f'convVAE3L_XUXU_Z{zdim}_B512_LR2E-04_WD1E-03_GCN2E+00_CN{n_subj_load}' \n",
    "epoch = 100\n",
    "model, mean, std = load_model_for_inference(model_subfolder, model_folder, epoch, DEVICE)\n",
    "print(mean, std)\n",
    "\n",
    "msetting = parse_model_setting(model_subfolder)\n",
    "msetting"
   ]
  },
  {
   "cell_type": "code",
   "execution_count": null,
   "metadata": {},
   "outputs": [],
   "source": [
    "key = \"subj_train\"\n",
    "if key in msetting:\n",
    "    if isinstance(msetting[key], float):\n",
    "        suffix = f\"_{key}{msetting[key]:.0E}\" \n",
    "    elif isinstance(msetting[key], int):\n",
    "        suffix = f\"_{key}{msetting[key]}\" \n",
    "    elif isinstance(msetting[key], str):\n",
    "        suffix = f\"_{msetting[key]}\"\n",
    "    else:\n",
    "        suffix=\"\"\n",
    "suffix"
   ]
  },
  {
   "cell_type": "code",
   "execution_count": null,
   "metadata": {},
   "outputs": [],
   "source": [
    "'''Load inference data for single subject'''\n",
    "\n",
    "subj_name_cn = 'example-CN-subj-name' # CN\n",
    "subj_cn = load_inference(subj_name_cn, model_subfolder, \n",
    "                      result_data_folder, data_folder,\n",
    "                      epoch, seed=SEED)\n",
    "\n",
    "subj_name_ad = 'example-AD-subj-name' # AD\n",
    "subj_ad = load_inference(subj_name_ad, model_subfolder, \n",
    "                      result_data_folder, data_folder,\n",
    "                      epoch, seed=SEED)"
   ]
  },
  {
   "cell_type": "markdown",
   "metadata": {},
   "source": [
    "# Embedding Plot"
   ]
  },
  {
   "cell_type": "code",
   "execution_count": null,
   "metadata": {},
   "outputs": [],
   "source": [
    "def make_subj_df(subj, method=None):\n",
    "    if method:\n",
    "        embeddings=getattr(subj, f'X_encoded_{method}')\n",
    "        method=f\"_{method}\"\n",
    "    else:\n",
    "        embeddings=subj.X_encoded\n",
    "        method=\"\"\n",
    "    df = pd.DataFrame(embeddings, columns=[f'Z{n+1}{method}' for n in range(embeddings.shape[1])])\n",
    "    df['Bundle'] = map_list_with_dict(subj.y, subj.bundle_num)\n",
    "    df['Hemisphere'] = label_hemispheres(df.Bundle.tolist())\n",
    "    return df"
   ]
  },
  {
   "cell_type": "code",
   "execution_count": null,
   "metadata": {},
   "outputs": [],
   "source": [
    "method=None\n",
    "df_cn = make_subj_df(subj_cn, method=method)\n",
    "df_ad = make_subj_df(subj_ad, method=method)\n",
    "df_cn"
   ]
  },
  {
   "cell_type": "markdown",
   "metadata": {},
   "source": [
    "## Plot 2D Embeddings"
   ]
  },
  {
   "cell_type": "code",
   "execution_count": null,
   "metadata": {},
   "outputs": [],
   "source": [
    "def plot_embedding(df, zdim, cmap_b=None, cmap_h=None, \n",
    "                   annot=\"\", method=None, suffix=None,\n",
    "                   plot_folder=None):\n",
    "    '''Plot 2D embedding (first 2 dimensions)'''\n",
    "\n",
    "    fig, ax = plt.subplots(nrows=1, ncols=2, sharey=True, figsize=(22, 10))\n",
    "    if cmap_b is None:\n",
    "        cmap_b = make_color_map('nipy_spectral', set(df.Bundle),\n",
    "                      plot_cmap=False)\n",
    "    if cmap_h is None:\n",
    "        cmap_h = make_color_map('nipy_spectral', set(df.Hemisphere),\n",
    "                      plot_cmap=False)\n",
    "        \n",
    "    method = f\"_{method}\" if method else \"\"\n",
    "    \n",
    "    sns.scatterplot(x=f'Z1{method}', y=f'Z2{method}', hue='Bundle', \n",
    "                    palette=cmap_b, data=df, ax=ax[0], \n",
    "                    s=25, alpha=0.5)\n",
    "    ax[0].set_xlabel(f\"{annot} Z1{method}\", fontsize=16)\n",
    "    ax[0].set_ylabel(f\"{annot} Z2{method}\", fontsize=16)\n",
    "    ax[0].legend(loc='upper center', bbox_to_anchor=(0.5, 1.16),\n",
    "          fontsize=12, ncol=6, fancybox=True, shadow=True)\n",
    "    \n",
    "    sns.scatterplot(x=f'Z1{method}', y=f'Z2{method}', hue='Hemisphere', \n",
    "                    palette=cmap_h, data=df, ax=ax[1], \n",
    "                    s=25, alpha=0.5)\n",
    "    ax[1].set_xlabel(f\"{annot} Z1{method}\", fontsize=16)\n",
    "    ax[1].set_ylabel(f\"{annot} Z2{method}\", fontsize=16)\n",
    "    ax[1].legend(loc='upper center', bbox_to_anchor=(0.5, 1.1),\n",
    "          fontsize=15, ncol=3, fancybox=True, shadow=True)\n",
    "\n",
    "    if plot_folder:\n",
    "        fig.tight_layout()\n",
    "        fig.savefig(f'{plot_folder}{zdim}D_embeddings_{annot}{method}{suffix}.pdf', bbox_inches='tight')"
   ]
  },
  {
   "cell_type": "markdown",
   "metadata": {},
   "source": [
    "Change `plot_folder` if saving plot to file"
   ]
  },
  {
   "cell_type": "code",
   "execution_count": null,
   "metadata": {
    "scrolled": false
   },
   "outputs": [],
   "source": [
    "cmap_b = labeled_colormap('nipy_spectral', subj_cn.bundle_idx.keys(), plot_cmap=False)\n",
    "cmap_h = labeled_colormap('jet', set(df_cn.Hemisphere), plot_cmap=False)\n",
    "plot_embedding(df_cn, zdim, cmap_b=cmap_b, \n",
    "               cmap_h=cmap_h, method=method,\n",
    "               annot=\"CN\", suffix=suffix,\n",
    "               plot_folder=None)\n",
    "plot_embedding(df_ad, zdim, cmap_b=cmap_b, \n",
    "               cmap_h=cmap_h, method=method,\n",
    "               annot=\"AD\", suffix=suffix,\n",
    "               plot_folder=None)"
   ]
  },
  {
   "cell_type": "markdown",
   "metadata": {},
   "source": [
    "## Plot 3D Embeddings"
   ]
  },
  {
   "cell_type": "code",
   "execution_count": null,
   "metadata": {},
   "outputs": [],
   "source": [
    "fig = px.scatter_3d(df_cn, x='Z1', y='Z2', z='Z3',\n",
    "                    color='Hemisphere', hover_name='Bundle',\n",
    "                    color_discrete_map={\n",
    "                        \"Left\": \"red\",\n",
    "                        \"Comm\": \"green\",\n",
    "                        \"Right\": \"blue\"},\n",
    "                    width=700, height=600)\n",
    "fig.update_traces(marker_size=2)\n",
    "fig.show()"
   ]
  },
  {
   "cell_type": "code",
   "execution_count": null,
   "metadata": {
    "scrolled": true
   },
   "outputs": [],
   "source": [
    "fig = px.scatter_3d(df_cn, x='Z1', y='Z2', z='Z3',\n",
    "                    color='Bundle',\n",
    "                    width=700, height=600)\n",
    "fig.update_traces(marker_size=2)\n",
    "fig.show()"
   ]
  },
  {
   "cell_type": "markdown",
   "metadata": {},
   "source": [
    "# Streamline distance"
   ]
  },
  {
   "cell_type": "markdown",
   "metadata": {},
   "source": [
    "## MDF - Euclidean "
   ]
  },
  {
   "cell_type": "code",
   "execution_count": null,
   "metadata": {},
   "outputs": [],
   "source": [
    "'''Select sample from training data'''\n",
    "n_sample = 300\n",
    "x, z, x_recon = select_random_samples(model, data.X, device=DEVICE,\n",
    "                                      n_sample=n_sample,\n",
    "                                      mean=mean, std=std, seed=SEED)\n",
    "zdim = z.shape[1]\n",
    "print(x.shape, z.shape)"
   ]
  },
  {
   "cell_type": "code",
   "execution_count": null,
   "metadata": {},
   "outputs": [],
   "source": [
    "'''Randomly generate sample from embedding space'''\n",
    "x_recon_rand, z_rand = generate_random_samples(model, zdim=zdim, n_sample=n_sample, \n",
    "                                     mean=mean, std=std, seed=SEED)\n",
    "print(x_recon_rand.shape, z_rand.shape)"
   ]
  },
  {
   "cell_type": "code",
   "execution_count": null,
   "metadata": {},
   "outputs": [],
   "source": [
    "'''Calculate pairwise distances'''\n",
    "\n",
    "dist_mdf=[]\n",
    "dist_euc=[]\n",
    "for i, j in combinations(range(len(z)), 2):\n",
    "    dist_mdf.append(mdf(x[i], x[j]))\n",
    "    dist_euc.append(np.linalg.norm(z[i]-z[j]))\n",
    "    \n",
    "dist_mdf_rand=[]\n",
    "dist_euc_rand=[]\n",
    "for i, j in combinations(range(len(z_rand)), 2):\n",
    "    dist_mdf_rand.append(mdf(x_recon_rand[i], x_recon_rand[j]))\n",
    "    dist_euc_rand.append(np.linalg.norm(z_rand[i]-z_rand[j]))"
   ]
  },
  {
   "cell_type": "code",
   "execution_count": null,
   "metadata": {
    "code_folding": []
   },
   "outputs": [],
   "source": [
    "from scipy.stats import gaussian_kde\n",
    "\n",
    "def plot_distance_corr(ax, x, y, zdim, title_text, fit_intercept=False):\n",
    "    \n",
    "    # fit gaussian kde\n",
    "    xy = np.vstack([x,y])\n",
    "    z = gaussian_kde(xy)(xy)\n",
    "    print('Fitted Gaussian KDE...')\n",
    "    \n",
    "    # get correlation\n",
    "    spearman, spval = scipy.stats.spearmanr(x, y)\n",
    "    pearson, ppval = scipy.stats.pearsonr(x, y)\n",
    "    \n",
    "    # scatter plot\n",
    "    cmap = truncate_colormap(plt.get_cmap('gray_r'), 0.3, 0.8)\n",
    "    ax.scatter(x, y, c=z, cmap=cmap, s=1)\n",
    "\n",
    "    # fitted line plot\n",
    "    coeff, r2 = fit_line(x, y, fit_intercept=fit_intercept)\n",
    "    xn = np.linspace(0, ax.get_xlim()[1], 500)\n",
    "    yn = get_fitted_line(xn, coeff, fit_intercept=fit_intercept)\n",
    "    ax.plot(xn, yn, '--', color='r')\n",
    "    \n",
    "    print(f\"Spearman r={spearman:.3f}, p={spval:.4f}, \" \\\n",
    "          f\"Pearson r={pearson:.3f}, p={ppval:.4f}, \" \\\n",
    "          f\"R2={r2:.3f}\")\n",
    "\n",
    "    # plot label setting\n",
    "    # plt.xlim(-0.5, 10)\n",
    "    # plt.ylim(-10, 200)\n",
    "    ax.set_title(f\"Pairwise distance of {title_text} (N={n_sample})\", fontsize=15)\n",
    "    ax.set_xlabel(f\"Euclidean Distance of {zdim}D Embeddings\", fontsize=15)\n",
    "    ax.set_ylabel(f\"MDF Distance of Streamlines\", fontsize=15)\n",
    "\n",
    "    # Add correlation text\n",
    "    corr_str = f\"Spearman={spearman:.3f}\\nPearson={pearson:.3f}\\nR2={r2:.3f}\"\n",
    "    props = dict(boxstyle='square', facecolor=\"0.9\", edgecolor='lightgrey', alpha=0.5)\n",
    "    ax.text(0.05, 0.85, corr_str, transform=ax.transAxes, fontsize=15, verticalalignment='bottom', \n",
    "             horizontalalignment='left', bbox=props)"
   ]
  },
  {
   "cell_type": "code",
   "execution_count": null,
   "metadata": {},
   "outputs": [],
   "source": [
    "%%time\n",
    "\n",
    "fit_intercept=False\n",
    "\n",
    "fig, ax = plt.subplots(nrows=1, ncols=2, figsize=(18, 8))\n",
    "plot_distance_corr(ax[0], dist_euc, dist_mdf, zdim, \"selected training samples\",\n",
    "                   fit_intercept=fit_intercept)\n",
    "plot_distance_corr(ax[1], dist_euc_rand, dist_mdf_rand, zdim, f\"random {zdim}D samples\",\n",
    "                   fit_intercept=fit_intercept)\n",
    "fig.savefig(f'{plot_folder}distance_corr_Z{zdim}{suffix}.png')"
   ]
  },
  {
   "cell_type": "code",
   "execution_count": null,
   "metadata": {},
   "outputs": [],
   "source": [
    "%%time\n",
    "\n",
    "fit_intercept=False\n",
    "\n",
    "fig, ax = plt.subplots(nrows=1, ncols=1, figsize=(8, 8))\n",
    "plot_distance_corr(ax, dist_euc, dist_mdf, zdim, \"selected training samples\",\n",
    "                   fit_intercept=fit_intercept)\n",
    "fig.savefig(f'{plot_folder}distance_corr_sel_Z{zdim}{suffix}.png')"
   ]
  },
  {
   "cell_type": "markdown",
   "metadata": {},
   "source": [
    "## Picking best z"
   ]
  },
  {
   "cell_type": "code",
   "execution_count": null,
   "metadata": {},
   "outputs": [],
   "source": [
    "'''Load evaluation metrics into variables below'''\n",
    "val_z = []\n",
    "val_spearman = []\n",
    "val_pearson = []\n",
    "val_r2 = []"
   ]
  },
  {
   "cell_type": "code",
   "execution_count": null,
   "metadata": {},
   "outputs": [],
   "source": [
    "plt.figure(figsize=(12, 7))\n",
    "plt.plot(val_z, val_spearman, c='r',  marker='o', label='Spearman')\n",
    "plt.plot(val_z, val_pearson, c='g', marker='o', label='Pearson')\n",
    "plt.plot(val_z, val_r2, c='b', marker='o', label='R2')\n",
    "plt.xlabel(\"Embedding Dimension\", fontsize=16)\n",
    "plt.ylabel(\"Metric Value\", fontsize=16)\n",
    "plt.grid()\n",
    "plt.legend(fontsize=16)\n",
    "plt.savefig(f'{plot_folder}nz-elbow-plot.pdf')"
   ]
  },
  {
   "cell_type": "markdown",
   "metadata": {},
   "source": [
    "# Bundle Distance"
   ]
  },
  {
   "cell_type": "code",
   "execution_count": null,
   "metadata": {},
   "outputs": [],
   "source": [
    "def rearrange_square_matrix(A, new_idx):\n",
    "    '''[UTIL] Rearrange square matrix based on new idx'''\n",
    "    assert A.shape[0]==A.shape[1], \"Not a square matrix\"\n",
    "    return np.array([[A[i][j] for j in new_idx] for i in new_idx])\n",
    "\n",
    "def symmetric_lower_to_upper(A):\n",
    "    '''[UTIL]'''\n",
    "    return A + A.T - np.diag(np.diag(A))"
   ]
  },
  {
   "cell_type": "code",
   "execution_count": null,
   "metadata": {},
   "outputs": [],
   "source": [
    "subj=subj_cn\n",
    "    \n",
    "sorted_bundle_dict = sort_bundle_name_by_hemisphere(subj.bundle_idx.keys())\n",
    "new_idx = map_list_with_dict(subj.bundle_idx.keys(), sorted_bundle_dict)"
   ]
  },
  {
   "cell_type": "markdown",
   "metadata": {},
   "source": [
    "## MDF Distance (Bundle Centroid)"
   ]
  },
  {
   "cell_type": "code",
   "execution_count": null,
   "metadata": {},
   "outputs": [],
   "source": [
    "from dipy.segment.clustering import QuickBundles\n",
    "\n",
    "BCentDist_mat = np.zeros((len(subj.bundle_idx), len(subj.bundle_idx)))\n",
    "\n",
    "for i, bundle1 in enumerate(subj.bundle_idx.keys()):\n",
    "    b1 = subj.X[subj.get_subj_bundle_idx(bundle1)]\n",
    "    qb = QuickBundles(threshold=10., max_nb_clusters=1)\n",
    "    clusters_b1 = qb.cluster(b1)\n",
    "    \n",
    "    for j, bundle2 in enumerate(subj.bundle_idx.keys()):\n",
    "        if j > i:\n",
    "            continue\n",
    "        b2 = subj.X[subj.get_subj_bundle_idx(bundle2)]\n",
    "        qb = QuickBundles(threshold=10., max_nb_clusters=1)\n",
    "        clusters_b2 = qb.cluster(b2)\n",
    "        \n",
    "        BCentDist_mat[i, j] = mdf(clusters_b1.centroids[0],\n",
    "                                   clusters_b2.centroids[0])"
   ]
  },
  {
   "cell_type": "code",
   "execution_count": null,
   "metadata": {},
   "outputs": [],
   "source": [
    "BCentDist_mat = symmetric_lower_to_upper(BCentDist_mat)\n",
    "new_BCentDist_mat = rearrange_square_matrix(BCentDist_mat, new_idx)\n",
    "\n",
    "fig, ax = plt.subplots(figsize=(10,10))\n",
    "\n",
    "mask = np.triu(new_BCentDist_mat)\n",
    "sns.heatmap(new_BCentDist_mat, square=True,\n",
    "            xticklabels=sorted_bundle_dict.keys(), \n",
    "            yticklabels=sorted_bundle_dict.keys(), \n",
    "            mask=mask, \n",
    "            ax=ax)\n",
    "ax.set_title(\"Pairwise MDF Distance of Bundle Centroids\")"
   ]
  },
  {
   "cell_type": "markdown",
   "metadata": {},
   "source": [
    "## Euclidean (Embeddding Centroid)"
   ]
  },
  {
   "cell_type": "code",
   "execution_count": null,
   "metadata": {},
   "outputs": [],
   "source": [
    "ECentDist_mat = np.zeros((len(subj.bundle_idx), len(subj.bundle_idx)))\n",
    "\n",
    "for i, bundle1 in enumerate(subj.bundle_idx.keys()):\n",
    "    b1 = subj.X[subj.get_subj_bundle_idx(bundle1)]\n",
    "    cent1 = np.mean(b1, axis=0)\n",
    "    for j, bundle2 in enumerate(subj.bundle_idx.keys()):\n",
    "        if j > i:\n",
    "            continue\n",
    "        b2 = subj.X[subj.get_subj_bundle_idx(bundle2)]\n",
    "        cent2 = np.mean(b2, axis=0)\n",
    "        ECentDist_mat[i,j] = np.linalg.norm(cent1-cent2)"
   ]
  },
  {
   "cell_type": "code",
   "execution_count": null,
   "metadata": {},
   "outputs": [],
   "source": [
    "ECentDist_mat = symmetric_lower_to_upper(ECentDist_mat)\n",
    "new_ECentDist_mat = rearrange_square_matrix(ECentDist_mat, new_idx)\n",
    "\n",
    "fig, ax = plt.subplots(figsize=(10,10))\n",
    "\n",
    "mask = np.triu(new_ECentDist_mat)\n",
    "sns.heatmap(new_ECentDist_mat, square=True,\n",
    "            xticklabels=sorted_bundle_dict.keys(), \n",
    "            yticklabels=sorted_bundle_dict.keys(), \n",
    "            mask=mask, \n",
    "            ax=ax)\n",
    "ax.set_title(\"Pairwise Euclidean Distance of Bundle Embedding Centroids\")"
   ]
  },
  {
   "cell_type": "markdown",
   "metadata": {},
   "source": [
    "## Bundle Distance"
   ]
  },
  {
   "cell_type": "code",
   "execution_count": null,
   "metadata": {},
   "outputs": [],
   "source": [
    "from dipy.align.streamlinear import (StreamlineLinearRegistration,\n",
    "                                     BundleMinDistanceMetric,\n",
    "                                     BundleSumDistanceMatrixMetric,\n",
    "                                     BundleMinDistanceAsymmetricMetric)\n",
    "\n",
    "def bundle_min_distance(b1, b2):\n",
    "    BMD = BundleMinDistanceMetric()\n",
    "    BMD.setup(b1, b2)\n",
    "    x0 = np.array([0, 0, 0, 0, 0, 0, 1., 1., 1, 0, 0, 0])  # affine\n",
    "    return BMD.distance(x0.tolist()) # distance in milimeters"
   ]
  },
  {
   "cell_type": "code",
   "execution_count": null,
   "metadata": {
    "scrolled": true
   },
   "outputs": [],
   "source": [
    "%%time \n",
    "\n",
    "BDist_mat = np.zeros((len(subj.bundle_idx), len(subj.bundle_idx)))\n",
    "\n",
    "for i, bundle1 in enumerate(subj.bundle_idx.keys()):\n",
    "    b1 = subj.X[subj.get_subj_bundle_idx(bundle1)]\n",
    "    \n",
    "    for j, bundle2 in enumerate(subj.bundle_idx.keys()):\n",
    "        if j > i:\n",
    "            continue\n",
    "        b2 = subj.X[subj.get_subj_bundle_idx(bundle2)]\n",
    "        score = bundle_min_distance(b1, b2)\n",
    "        print(i, j, score)\n",
    "        BDist_mat[i, j] = score"
   ]
  },
  {
   "cell_type": "code",
   "execution_count": null,
   "metadata": {},
   "outputs": [],
   "source": [
    "BDist_mat = symmetric_lower_to_upper(BDist_mat)\n",
    "new_BDist_mat = rearrange_square_matrix(BDist_mat, new_idx)\n",
    "\n",
    "fig, ax = plt.subplots(figsize=(10,10))\n",
    "\n",
    "mask = np.triu(new_BDist_mat)\n",
    "sns.heatmap(new_BDist_mat, square=True,\n",
    "            xticklabels=sorted_bundle_dict.keys(), \n",
    "            yticklabels=sorted_bundle_dict.keys(), \n",
    "            mask=mask, \n",
    "            ax=ax)\n",
    "ax.set_title(\"Pairwise Bundle-based Minimum Distances\")"
   ]
  },
  {
   "cell_type": "markdown",
   "metadata": {},
   "source": [
    "This distance metric calculation might take a while, best to save it!"
   ]
  },
  {
   "cell_type": "code",
   "execution_count": null,
   "metadata": {},
   "outputs": [],
   "source": [
    "save_pickle(new_BDist_mat, f\"{eval_folder}dist_bundle_bmd{suffix}\")"
   ]
  },
  {
   "cell_type": "markdown",
   "metadata": {},
   "source": [
    "## Wasserstein Distance\n",
    "\n",
    "https://pythonot.github.io/quickstart.html#computing-wasserstein-distance"
   ]
  },
  {
   "cell_type": "code",
   "execution_count": null,
   "metadata": {},
   "outputs": [],
   "source": [
    "import ot\n",
    "import ot.plot"
   ]
  },
  {
   "cell_type": "code",
   "execution_count": null,
   "metadata": {
    "scrolled": true
   },
   "outputs": [],
   "source": [
    "%%time\n",
    "\n",
    "WDist_mat = np.zeros((len(subj.bundle_idx), len(subj.bundle_idx)))\n",
    "\n",
    "for i, bundle1 in enumerate(subj.bundle_idx.keys()):\n",
    "    for j, bundle2 in enumerate(subj.bundle_idx.keys()):\n",
    "        if j > i:\n",
    "            continue\n",
    "        b1 = subj.X_encoded[subj.get_subj_bundle_idx(bundle1)]\n",
    "        b2 = subj.X_encoded[subj.get_subj_bundle_idx(bundle2)]\n",
    "        a = np.ones((len(b1),)) / len(b1)\n",
    "        b = np.ones((len(b2),)) / len(b2)\n",
    "        M = ot.dist(b1, b2)\n",
    "        wdist = ot.emd2(a, b, M, numItermax=5e+5)\n",
    "        print(i, j, wdist)\n",
    "        WDist_mat[i, j] = wdist"
   ]
  },
  {
   "cell_type": "code",
   "execution_count": null,
   "metadata": {},
   "outputs": [],
   "source": [
    "WDist_mat = symmetric_lower_to_upper(WDist_mat)\n",
    "new_WDist_mat = rearrange_square_matrix(WDist_mat, new_idx)\n",
    "\n",
    "fig, ax = plt.subplots(figsize=(10,10))\n",
    "\n",
    "mask = np.zeros_like(new_WDist_mat, dtype=np.bool)\n",
    "mask[np.triu_indices_from(mask)] = True\n",
    "sns.heatmap(new_WDist_mat, square=True,\n",
    "            xticklabels=sorted_bundle_dict.keys(), \n",
    "            yticklabels=sorted_bundle_dict.keys(), \n",
    "            mask=mask, \n",
    "            ax=ax)\n",
    "ax.set_title(\"Pairwise Wassestein Distance of Bundles\")"
   ]
  },
  {
   "cell_type": "markdown",
   "metadata": {},
   "source": [
    "This distance metric calculation might take a while, best to save it!"
   ]
  },
  {
   "cell_type": "code",
   "execution_count": null,
   "metadata": {},
   "outputs": [],
   "source": [
    "save_pickle(new_WDist_mat, f\"{eval_folder}dist_bundle_wasserstein{suffix}\")"
   ]
  },
  {
   "cell_type": "markdown",
   "metadata": {
    "heading_collapsed": true
   },
   "source": [
    "### Bundle-Specific Wasserstein distance\n",
    "\n",
    "(aka Optimal Transport distance)\n",
    "Use the functions below to inspect distance between 2 specfiic functions"
   ]
  },
  {
   "cell_type": "code",
   "execution_count": null,
   "metadata": {
    "hidden": true
   },
   "outputs": [],
   "source": [
    "def plot_ot_embeddings(b1, b2):\n",
    "    fig, axes = plt.subplots(nrows=1, ncols=2, figsize=(12, 8))\n",
    "\n",
    "    axes[0].scatter(b1[:, 0], b1[:, 1], c='r', s=3, label=bundle1)\n",
    "    axes[0].scatter(b2[:, 0], b2[:, 1], c='b', s=3, label=bundle2)\n",
    "    axes[0].legend(loc=\"upper right\")\n",
    "    axes[0].title.set_text('Bundle Embeddings')\n",
    "\n",
    "    plt.sca(axes[1])\n",
    "    ot.plot.plot2D_samples_mat(b1, b2, G0, color=[.5, .5, 1])\n",
    "    axes[1].scatter(b1[:, 0], b1[:, 1], c='r', label=bundle1)\n",
    "    axes[1].scatter(b2[:, 0], b2[:, 1], c='b', label=bundle2)\n",
    "    axes[1].legend(loc=\"upper right\")\n",
    "    axes[1].title.set_text('OT matrix')\n",
    "    \n",
    "def plot_ot_matrix(M, G0):\n",
    "    fig, axes = plt.subplots(nrows=1, ncols=2, figsize=(15, 8))\n",
    "\n",
    "    axes[0].imshow(M, interpolation='nearest')\n",
    "    axes[0].title.set_text('Cost Matrix')\n",
    "\n",
    "    axes[1].imshow(G0, interpolation='nearest')\n",
    "    axes[1].title.set_text('OT Matrix')"
   ]
  },
  {
   "cell_type": "code",
   "execution_count": null,
   "metadata": {
    "hidden": true
   },
   "outputs": [],
   "source": [
    "bundle1=\"CST_L\"\n",
    "bundle2=\"CST_R\"\n",
    "\n",
    "b1 = subj.X_encoded[subj.get_bundle_idx(bundle1)]\n",
    "b2 = subj.X_encoded[subj.get_bundle_idx(bundle2)]\n",
    "print(b1.shape, b2.shape)\n",
    "\n",
    "a = np.ones((len(b1),)) / len(b1)\n",
    "b = np.ones((len(b2),)) / len(b2)\n",
    "M = ot.dist(b1, b2, metric='euclidean')\n",
    "G0 = ot.emd(a, b, M)\n",
    "W = ot.emd2(a, b, M)\n",
    "print(W)\n",
    "\n",
    "plot_ot_embeddings(b1, b2)\n",
    "plot_ot_matrix(M, G0)"
   ]
  },
  {
   "cell_type": "markdown",
   "metadata": {},
   "source": [
    "## Mantel Test"
   ]
  },
  {
   "cell_type": "code",
   "execution_count": null,
   "metadata": {},
   "outputs": [],
   "source": [
    "new_BDist_mat = load_pickle(f\"{eval_folder}dist_bundle_bmd\")\n",
    "new_WDist_mat = load_pickle(f\"{eval_folder}dist_bundle_wasserstein\")"
   ]
  },
  {
   "cell_type": "code",
   "execution_count": null,
   "metadata": {},
   "outputs": [],
   "source": [
    "np.fill_diagonal(new_BCentDist_mat, 0)\n",
    "np.fill_diagonal(new_ECentDist_mat, 0)\n",
    "np.fill_diagonal(new_BDist_mat, 0)\n",
    "np.fill_diagonal(new_WDist_mat, 0)"
   ]
  },
  {
   "cell_type": "code",
   "execution_count": null,
   "metadata": {},
   "outputs": [],
   "source": [
    "from skbio.stats.distance import mantel\n",
    "coeff, p_value, _ = mantel(new_BCentDist_mat, new_ECentDist_mat, \n",
    "                           method='pearson', permutations=100)\n",
    "print(coeff, p_value)\n",
    "coeff, p_value, _ = mantel(new_BDist_mat, new_WDist_mat, \n",
    "                           method='pearson', permutations=100)\n",
    "print(coeff, p_value)"
   ]
  },
  {
   "cell_type": "markdown",
   "metadata": {},
   "source": [
    "## Plot Heatmaps"
   ]
  },
  {
   "cell_type": "code",
   "execution_count": null,
   "metadata": {},
   "outputs": [],
   "source": [
    "from mpl_toolkits.axes_grid1.inset_locator import inset_axes\n",
    "\n",
    "fig, (ax1, ax2) = plt.subplots(ncols=2, figsize=(20,12))\n",
    "\n",
    "mask = np.triu(new_BCentDist_mat)\n",
    "cax1 = inset_axes(ax1,\n",
    "                 width=\"70%\",  # width: 40% of parent_bbox width\n",
    "                 height=\"7%\",  # height: 10% of parent_bbox height\n",
    "                 loc='lower left',\n",
    "                 bbox_to_anchor=(0.47, 1.15, 1, 1),\n",
    "                 bbox_transform=ax.transAxes,\n",
    "                 borderpad=0,\n",
    "                 )\n",
    "cax1.tick_params(labelsize=18)\n",
    "sns.heatmap(new_BCentDist_mat, square=True,\n",
    "            mask=mask,\n",
    "            cbar_ax = cax1,\n",
    "            cbar_kws={\"orientation\" : \"horizontal\", # \"location\":'top',\n",
    "                      \"shrink\" : 0.5, \"pad\" : .01},\n",
    "            ax=ax1)\n",
    "ax1.set_xticklabels(sorted_bundle_dict.keys(), rotation=90, fontsize = 16)\n",
    "ax1.set_yticklabels(sorted_bundle_dict.keys(), rotation=0, fontsize = 16)\n",
    "ax1.set_title(\"Pairwise MDF Distance of\\nBundle Centroids\", fontsize=22)\n",
    "\n",
    "mask = np.triu(new_ECentDist_mat)\n",
    "cax2 = inset_axes(ax2,\n",
    "                 width=\"70%\",  # width: 40% of parent_bbox width\n",
    "                 height=\"7%\",  # height: 10% of parent_bbox height\n",
    "                 loc='lower left',\n",
    "                 bbox_to_anchor=(1.77, 1.15, 1, 1),\n",
    "                 bbox_transform=ax.transAxes,\n",
    "                 borderpad=0,\n",
    "                 )\n",
    "cax2.tick_params(labelsize=18)\n",
    "sns.heatmap(new_ECentDist_mat, square=True,\n",
    "            yticklabels=[], \n",
    "            mask=mask, \n",
    "            cbar_ax = cax2,\n",
    "            cbar_kws={\"orientation\" : \"horizontal\", # \"location\":'top',\n",
    "                      \"shrink\" : 0.5, \"pad\" : .01},\n",
    "            ax=ax2)\n",
    "ax2.set_xticklabels(sorted_bundle_dict.keys(), rotation=90, fontsize = 16)\n",
    "ax2.set_title(\"Pairwise Euclidean Distance of\\nBundle Embedding Centroids\", fontsize=22)\n",
    "\n",
    "plt.subplots_adjust(wspace = .07)\n",
    "fig.savefig(f'{plot_folder}distance_centroid_Z{zdim}{suffix}.pdf')"
   ]
  },
  {
   "cell_type": "code",
   "execution_count": null,
   "metadata": {},
   "outputs": [],
   "source": [
    "from mpl_toolkits.axes_grid1.inset_locator import inset_axes\n",
    "\n",
    "fig, (ax1, ax2) = plt.subplots(ncols=2, figsize=(20,12))\n",
    "\n",
    "mask = np.triu(new_BDist_mat)\n",
    "cax1 = inset_axes(ax1,\n",
    "                 width=\"70%\",  # width: 40% of parent_bbox width\n",
    "                 height=\"7%\",  # height: 10% of parent_bbox height\n",
    "                 loc='lower left',\n",
    "                 bbox_to_anchor=(0.47, 1.15, 1, 1),\n",
    "                 bbox_transform=ax.transAxes,\n",
    "                 borderpad=0,\n",
    "                 )\n",
    "cax1.tick_params(labelsize=18)\n",
    "sns.heatmap(new_BDist_mat, square=True,\n",
    "            mask=mask,\n",
    "            cbar_ax = cax1,\n",
    "            cbar_kws={\"orientation\" : \"horizontal\", # \"location\":'top',\n",
    "                      \"shrink\" : 0.5, \"pad\" : .01},\n",
    "            ax=ax1)\n",
    "ax1.set_xticklabels(sorted_bundle_dict.keys(), rotation=90, fontsize = 16)\n",
    "ax1.set_yticklabels(sorted_bundle_dict.keys(), rotation=0, fontsize = 16)\n",
    "ax1.set_title(\"Pairwise BMD Distance of Bundles\", fontsize=22)\n",
    "\n",
    "mask = np.triu(new_WDist_mat)\n",
    "cax2 = inset_axes(ax2,\n",
    "                 width=\"70%\",  # width: 40% of parent_bbox width\n",
    "                 height=\"7%\",  # height: 10% of parent_bbox height\n",
    "                 loc='lower left',\n",
    "                 bbox_to_anchor=(1.77, 1.15, 1, 1),\n",
    "                 bbox_transform=ax.transAxes,\n",
    "                 borderpad=0,\n",
    "                 )\n",
    "cax2.tick_params(labelsize=18)\n",
    "sns.heatmap(new_WDist_mat, square=True,\n",
    "            yticklabels=[], \n",
    "            mask=mask, \n",
    "            cbar_ax = cax2,\n",
    "            cbar_kws={\"orientation\" : \"horizontal\", # \"location\":'top',\n",
    "                      \"shrink\" : 0.5, \"pad\" : .01},\n",
    "            ax=ax2)\n",
    "ax2.set_xticklabels(sorted_bundle_dict.keys(), rotation=90, fontsize = 16)\n",
    "ax2.set_title(\"Pairwise Wasserstein Distance of\\nBundle Embeddings\", fontsize=22)\n",
    "\n",
    "plt.subplots_adjust(wspace = .07)\n",
    "fig.savefig(f'{plot_folder}distance_bundle_Z{zdim}{suffix}.pdf')"
   ]
  },
  {
   "cell_type": "markdown",
   "metadata": {},
   "source": [
    "# Interpolation"
   ]
  },
  {
   "cell_type": "code",
   "execution_count": null,
   "metadata": {},
   "outputs": [],
   "source": [
    "def sample_streamlines_from_bundle(subj, bundle_name, n_sample=1, seed=0):\n",
    "    '''Select random samples from bundles in subject data'''\n",
    "    bundle = subj.X[subj.get_bundle_idx(bundle_name)]\n",
    "    return sample_idx(bundle, n_sample=n_sample, seed=seed)\n",
    "    \n",
    "def get_bundle_from_hemisphere(bnames, hemisphere='L'):\n",
    "    '''[DATA-UTIL] Get all bundles from sample'''\n",
    "    if hemisphere == 'L':\n",
    "        bundles = [b for b in bnames if b.endswith('_L')]\n",
    "    elif hemisphere =='R':\n",
    "        bundles = [b for b in bnames if b.endswith('R')]\n",
    "    elif hemisphere == 'C':\n",
    "        bundles = [b for b in bnames if not b.endswith('_L') and not b.endswith('R')]\n",
    "    else:\n",
    "        print(\"Invalid hemisphere input, only accept L, R, C\")\n",
    "        return\n",
    "    return bundles"
   ]
  },
  {
   "cell_type": "code",
   "execution_count": null,
   "metadata": {},
   "outputs": [],
   "source": [
    "'''Get index of all L/R/C bundles in subject'''\n",
    "subj=subj_cn\n",
    "bnames = subj.bundle_idx.keys()\n",
    "left_cn = subj.get_subj_multibundle_idx(get_bundle_from_hemisphere(bnames, 'L'))\n",
    "right_cn = subj.get_subj_multibundle_idx(get_bundle_from_hemisphere(bnames, 'R'))\n",
    "comm_cn = subj.get_subj_multibundle_idx(get_bundle_from_hemisphere(bnames, 'C'))\n",
    "print(left_cn.shape, right_cn.shape, comm_cn.shape)"
   ]
  },
  {
   "cell_type": "code",
   "execution_count": null,
   "metadata": {},
   "outputs": [],
   "source": [
    "'''Select sample from each hemisphere in subject'''\n",
    "n_sample=2\n",
    "sample_left = left_cn[sample_idx(left_cn, n_sample=n_sample, seed=SEED)]\n",
    "sample_right = right_cn[sample_idx(right_cn, n_sample=n_sample, seed=SEED)]\n",
    "sample_comm = comm_cn[sample_idx(comm_cn, n_sample=n_sample, seed=SEED)]\n",
    "\n",
    "print([f\"{get_bundle_for_idx(i, subj.bundle_idx)} @ {i}\" for i in sample_left])\n",
    "print([f\"{get_bundle_for_idx(i, subj.bundle_idx)} @ {i}\" for i in sample_right])\n",
    "print([f\"{get_bundle_for_idx(i, subj.bundle_idx)} @ {i}\" for i in sample_comm])"
   ]
  },
  {
   "cell_type": "code",
   "execution_count": null,
   "metadata": {},
   "outputs": [],
   "source": [
    "def interpolate_np(p1, p2, n_points=10):\n",
    "    '''[UTIL]'''\n",
    "    return np.stack([np.linspace(i,j,n_points) for i,j in zip(p1,p2)],axis=1)\n",
    "\n",
    "setting='l0r0'\n",
    "X_enc_interp = interpolate_np(subj.X_encoded[sample_left[0]],\n",
    "                              subj.X_encoded[sample_right[0]],\n",
    "                              n_points=50)\n",
    "X_recon_interp = decode_embeddings(X_enc_interp, model, \n",
    "                                   mean=mean, std=std)\n",
    "print(X_recon_interp.shape)"
   ]
  },
  {
   "cell_type": "code",
   "execution_count": null,
   "metadata": {},
   "outputs": [],
   "source": [
    "'''visualize generated streamlines'''\n",
    "palette = mpl._color_data.CSS4_COLORS\n",
    "scene = window.Scene()\n",
    "scene.set_camera(position=pos, \n",
    "                 focal_point=foc,\n",
    "                 view_up=vup)\n",
    "\n",
    "linecolor='white'\n",
    "scene.add(actor.streamtube(np.expand_dims(X_recon_interp[0], axis=0), \n",
    "                           linewidth=0.8, colors=mpl.colors.to_rgb(palette[linecolor])))\n",
    "scene.add(actor.streamtube(X_recon_interp[1:-1], \n",
    "                           linewidth=0.3, colors=mpl.colors.to_rgb(palette[linecolor])))\n",
    "scene.add(actor.streamtube(np.expand_dims(X_recon_interp[-1], axis=0),\n",
    "                           linewidth=0.8, colors=mpl.colors.to_rgb(palette[linecolor])))\n",
    "\n",
    "window.record(scene, size=(1200, 1200), out_path=plot_folder+f\"interp_{setting}.png\")\n",
    "window.show(scene, size=(1000,1000), reset_camera=False)"
   ]
  },
  {
   "cell_type": "code",
   "execution_count": null,
   "metadata": {},
   "outputs": [],
   "source": [
    "'''Get current camera setting'''\n",
    "pos, foc, vup = scene.get_camera()"
   ]
  },
  {
   "cell_type": "markdown",
   "metadata": {},
   "source": [
    "# Bundle Visualization"
   ]
  },
  {
   "cell_type": "code",
   "execution_count": null,
   "metadata": {},
   "outputs": [],
   "source": [
    "subj = subj_cn\n",
    "label='cn'\n",
    "bundles_vis = ['CST_L','CST_R']\n",
    "\n",
    "color_list = mpl.cm.datad['tab10']['listed']\n",
    "for i, name in enumerate(bundles_vis):\n",
    "    plt.axhline(-i, linewidth=10, c=color_list[i], label=name)\n",
    "plt.legend(bbox_to_anchor=(1, 1), loc='upper left', ncol=1,prop={'size': 15})"
   ]
  },
  {
   "cell_type": "code",
   "execution_count": null,
   "metadata": {},
   "outputs": [],
   "source": [
    "'''visualize streamlines'''\n",
    "scene = window.Scene()\n",
    "scene.SetBackground(1, 1, 1)\n",
    "\n",
    "for i, bundle in enumerate(bundles_vis):\n",
    "    lines = subj.X[subj.get_subj_bundle_idx(bundle)]\n",
    "    scene.add(actor.line(lines, fake_tube=True, linewidth=6, colors=color_list[i]))\n",
    "window.show(scene, size=(1000,1000), reset_camera=False)\n",
    "# window.record(scene, size=(1200, 1200), out_path=f'{plot_folder}vis_X_3b.png')"
   ]
  },
  {
   "cell_type": "code",
   "execution_count": null,
   "metadata": {},
   "outputs": [],
   "source": [
    "'''Get current camera setting'''\n",
    "pos, foc, vup = scene.get_camera()\n",
    "print(pos, foc, vup)"
   ]
  },
  {
   "cell_type": "code",
   "execution_count": null,
   "metadata": {},
   "outputs": [],
   "source": [
    "'''visualize reconstruction streamlines'''\n",
    "scene = window.Scene()\n",
    "scene.SetBackground(1, 1, 1)\n",
    "\n",
    "scene.set_camera(position=pos, \n",
    "                 focal_point=foc,\n",
    "                 view_up=vup)\n",
    "\n",
    "for i, bundle in enumerate(bundles_vis):\n",
    "    lines = subj.X_recon[subj.get_subj_bundle_idx(bundle)]\n",
    "    scene.add(actor.line(lines, fake_tube=True, linewidth=6, colors=color_list[i]))\n",
    "window.show(scene, size=(1000,1000), reset_camera=False)\n",
    "# window.record(scene, size=(1200, 1200), out_path=f'{plot_folder}vis_Xrecon_3b{suffix}.png')"
   ]
  }
 ],
 "metadata": {
  "kernelspec": {
   "display_name": "Python 3 (ipykernel)",
   "language": "python",
   "name": "python3"
  },
  "language_info": {
   "codemirror_mode": {
    "name": "ipython",
    "version": 3
   },
   "file_extension": ".py",
   "mimetype": "text/x-python",
   "name": "python",
   "nbconvert_exporter": "python",
   "pygments_lexer": "ipython3",
   "version": "3.9.12"
  },
  "toc": {
   "base_numbering": 1,
   "nav_menu": {},
   "number_sections": true,
   "sideBar": true,
   "skip_h1_title": false,
   "title_cell": "Table of Contents",
   "title_sidebar": "Contents",
   "toc_cell": false,
   "toc_position": {
    "height": "calc(100% - 180px)",
    "left": "10px",
    "top": "150px",
    "width": "253.984px"
   },
   "toc_section_display": true,
   "toc_window_display": true
  }
 },
 "nbformat": 4,
 "nbformat_minor": 4
}
