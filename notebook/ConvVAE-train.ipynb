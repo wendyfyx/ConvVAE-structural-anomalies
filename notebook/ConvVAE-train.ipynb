{
 "cells": [
  {
   "cell_type": "markdown",
   "id": "94fec96a",
   "metadata": {},
   "source": [
    "# Set up"
   ]
  },
  {
   "cell_type": "code",
   "execution_count": null,
   "id": "eb46610b",
   "metadata": {},
   "outputs": [],
   "source": [
    "import os\n",
    "import sys\n",
    "\n",
    "module_path = os.path.abspath(os.path.join('../src/'))\n",
    "print(module_path)\n",
    "if module_path not in sys.path:\n",
    "    sys.path.append(module_path)"
   ]
  },
  {
   "cell_type": "code",
   "execution_count": null,
   "id": "f478fc2e",
   "metadata": {},
   "outputs": [],
   "source": [
    "import glob\n",
    "import random\n",
    "import pickle\n",
    "import numpy as np\n",
    "import pandas as pd\n",
    "import matplotlib as mpl\n",
    "import matplotlib.pyplot as plt\n",
    "import seaborn as sns\n",
    "import nibabel as nib\n",
    "from tqdm.auto import tqdm\n",
    "from collections import Counter\n",
    "\n",
    "import torch\n",
    "import torch.nn as nn\n",
    "import torch.nn.functional as F\n",
    "from torch.utils.data import DataLoader, TensorDataset\n",
    "from torch.utils.tensorboard import SummaryWriter\n",
    "\n",
    "import dipy\n",
    "from dipy.viz import window, actor\n",
    "\n",
    "from data.BundleData import BundleData\n",
    "from data.data_util import *\n",
    "from utils.general_util import *\n",
    "from model.model import *\n",
    "from model.train_model import train_model\n",
    "from evaluation import *"
   ]
  },
  {
   "cell_type": "code",
   "execution_count": null,
   "id": "1cb1f962",
   "metadata": {},
   "outputs": [],
   "source": [
    "SEED = 2022\n",
    "DEVICE_NUM = 5\n",
    "set_seed(seed=SEED)\n",
    "DEVICE = set_device()\n",
    "if DEVICE == 'cuda':\n",
    "    torch.cuda.set_device(DEVICE_NUM)\n",
    "    print(torch.cuda.device_count(), \n",
    "          torch.cuda.current_device(),\n",
    "          torch.cuda.get_device_name(DEVICE_NUM))"
   ]
  },
  {
   "cell_type": "code",
   "execution_count": null,
   "id": "d8483b20",
   "metadata": {},
   "outputs": [],
   "source": [
    "model_folder = \"../results/models/\"\n",
    "plot_folder = \"../results/plots/\"\n",
    "result_data_folder = \"../results/data/\"\n",
    "log_folder = \"../results/logs/\"\n",
    "data_files_folder = \"../data_files/\"\n",
    "\n",
    "# CHANGE DATA FOLDER BELOW\n",
    "data_folder = \"\""
   ]
  },
  {
   "cell_type": "markdown",
   "id": "84b64a28",
   "metadata": {},
   "source": [
    "# Load data"
   ]
  },
  {
   "cell_type": "markdown",
   "id": "e3f0c890",
   "metadata": {},
   "source": [
    "Change the code below for selecting training subjects accordingly."
   ]
  },
  {
   "cell_type": "code",
   "execution_count": null,
   "id": "9aa077d6",
   "metadata": {},
   "outputs": [],
   "source": [
    "'''Load metadata & select CN and sort by bundles then streamlines'''\n",
    "\n",
    "df_meta = pd.read_csv(data_files_folder + \"metadata.csv\")\n",
    "df_tmp = df_meta.loc[df_meta.DX=='CN'].sort_values(by=['bundle_count','streamline_count'], \n",
    "                                          ascending=False)\n",
    "df_tmp.head()"
   ]
  },
  {
   "cell_type": "code",
   "execution_count": null,
   "id": "fb030b71",
   "metadata": {},
   "outputs": [],
   "source": [
    "'''Select subject to be trained on'''\n",
    "n_subj = 10\n",
    "subjs_train = df_tmp[:n_subj].Subject.values\n",
    "subjs_train"
   ]
  },
  {
   "cell_type": "markdown",
   "id": "4680b44f",
   "metadata": {},
   "source": [
    "`FiberData` can load in bundle data from RecoBundles output. See example file structure under `subjects_small` [here](https://github.com/dipy/dipy/blob/master/doc/interfaces/buan_flow.rst)."
   ]
  },
  {
   "cell_type": "code",
   "execution_count": null,
   "id": "145c00af",
   "metadata": {},
   "outputs": [],
   "source": [
    "%%time\n",
    "\n",
    "args = {'n_points' : 256, 'n_lines' : None, 'min_lines' : 2, \n",
    "        'tracts_exclude' : ['CST_L_s', 'CST_R_s'],'preprocess' : '3d', \n",
    "        'rng' : None, 'verbose': False, 'data_folder' : data_folder}\n",
    "\n",
    "data = FiberData(subjs_train, **args)"
   ]
  },
  {
   "cell_type": "markdown",
   "id": "02c53b4b",
   "metadata": {},
   "source": [
    "# 1D convVAE"
   ]
  },
  {
   "cell_type": "markdown",
   "id": "7a682743",
   "metadata": {},
   "source": [
    "## Dataset & Dataloader\n",
    "\n",
    "Preprocess data into torch Dataset and Dataloader"
   ]
  },
  {
   "cell_type": "code",
   "execution_count": null,
   "id": "e130beb3",
   "metadata": {},
   "outputs": [],
   "source": [
    "X = data.X\n",
    "y = data.y"
   ]
  },
  {
   "cell_type": "code",
   "execution_count": null,
   "id": "093b1a0f",
   "metadata": {},
   "outputs": [],
   "source": [
    "'''Split into train and test'''\n",
    "train, test = split_data(X, y, n_splits=50, test_size=0.2, random_state=SEED)\n",
    "X_train = torch.from_numpy(X[train])\n",
    "y_train = torch.from_numpy(y[train])\n",
    "X_test = torch.from_numpy(X[test])\n",
    "y_test = torch.from_numpy(y[test])\n",
    "\n",
    "print(X_train.shape, y_train.shape)\n",
    "print(X_test.shape, y_test.shape)"
   ]
  },
  {
   "cell_type": "code",
   "execution_count": null,
   "id": "5b3e08da",
   "metadata": {
    "scrolled": true
   },
   "outputs": [],
   "source": [
    "'''Get the x,y,z mean and std from training data'''\n",
    "mean, std = X_train.mean([0,1]), X_train.std([0,1])\n",
    "print(mean, std)"
   ]
  },
  {
   "cell_type": "code",
   "execution_count": null,
   "id": "d6eb55cd",
   "metadata": {},
   "outputs": [],
   "source": [
    "'''Apply standard scaling (zero mean and unit variance) to train and test data'''\n",
    "\n",
    "X_train_norm = X_train.sub(mean).div(std)\n",
    "X_test_norm = X_test.sub(mean).div(std)\n",
    "\n",
    "X_norm = torch.tensor(X).sub(mean).div(std)\n",
    "data.X_norm = X_norm\n",
    "\n",
    "print(X_train_norm.shape, X_test_norm.shape, X_norm.shape)\n",
    "\n",
    "# histogram to double check scaling is correct\n",
    "_ = plt.hist(np.array(X_train_norm).ravel(), bins=50, density=True)"
   ]
  },
  {
   "cell_type": "code",
   "execution_count": null,
   "id": "1625a672",
   "metadata": {},
   "outputs": [],
   "source": [
    "'''Convert data to pytorch dataloader for training'''\n",
    "g_seed = torch.Generator()\n",
    "g_seed.manual_seed(SEED)\n",
    "batch_size = 512\n",
    "\n",
    "train_data = TensorDataset(X_train_norm, y_train)\n",
    "train_loader = make_data_loader(train_data, SEED, batch_size, num_workers=4)\n",
    "\n",
    "test_data = TensorDataset(X_test_norm, y_test)\n",
    "test_loader = make_data_loader(test_data, SEED, batch_size, num_workers=4)\n",
    "\n",
    "\n",
    "print(f\"# Batches: train {len(train_loader)}, eval {len(test_loader)}\")"
   ]
  },
  {
   "cell_type": "code",
   "execution_count": null,
   "id": "3f687365",
   "metadata": {},
   "outputs": [],
   "source": [
    "'''Used for testing model forward function'''\n",
    "set_seed(SEED)\n",
    "model = convVAE(3, 2, Encoder3L, Decoder3L)\n",
    "model.to(DEVICE)\n",
    "print(\"# Params: \", sum(p.numel() for p in model.parameters()))\n",
    "\n",
    "# model.apply(init_weights)\n",
    "\n",
    "for i, (x,_) in enumerate(test_loader):\n",
    "    x = x.to(DEVICE)\n",
    "    x_hat, z, elbo = model.loss(x, computeMSE=False)\n",
    "    print(z.shape, x_hat.shape, elbo.item())\n",
    "    print(model.result_dict)\n",
    "    break"
   ]
  },
  {
   "cell_type": "code",
   "execution_count": null,
   "id": "c28e1dca",
   "metadata": {},
   "outputs": [],
   "source": [
    "del X_train, X_test, X_train_norm, X_test_norm"
   ]
  },
  {
   "cell_type": "markdown",
   "id": "2e845efc",
   "metadata": {},
   "source": [
    "# Training\n",
    "\n",
    "- [Save torch models](https://pytorch.org/tutorials/beginner/saving_loading_models.html#save-load-state-dict-recommended)"
   ]
  },
  {
   "cell_type": "code",
   "execution_count": null,
   "id": "fcc2eca3",
   "metadata": {},
   "outputs": [],
   "source": [
    "total_epochs = 100\n",
    "save_every = 5 # save model every N epochs\n",
    "\n",
    "zdim = 32\n",
    "model_type = \"3L\"\n",
    "lr = 2e-4\n",
    "wd = 1e-3\n",
    "\n",
    "model_name = f\"convVAE{model_type}_XUXU_Z{zdim}_B{batch_size}_\" \\\n",
    "             f\"LR{lr:.0E}_WD{wd:.0E}_GCN2E+00_CN{n_subj}\"\n",
    "model_info = parse_model_setting(model_name)\n",
    "print(f\"Saving to {model_name}\")\n",
    "model_info"
   ]
  },
  {
   "cell_type": "markdown",
   "id": "3bd7b17f",
   "metadata": {},
   "source": [
    "If resume training model, set `model_resume` to `True`, and `resume_epoch` to the epoch for which the model was last saved."
   ]
  },
  {
   "cell_type": "code",
   "execution_count": null,
   "id": "52a80ed2",
   "metadata": {},
   "outputs": [],
   "source": [
    "model_resume = False\n",
    "resume_epoch = 0\n",
    "model, optimizer, starting_epoch, starting_batch_train, _ = init_model(model_folder, model_name,\n",
    "                                                                       SEED, DEVICE, \n",
    "                                                                       model_resume=model_resume,\n",
    "                                                                       resume_epoch=resume_epoch)"
   ]
  },
  {
   "cell_type": "code",
   "execution_count": null,
   "id": "7601dba5",
   "metadata": {},
   "outputs": [],
   "source": [
    "'''For saving tensorboard log and model files'''\n",
    "\n",
    "!mkdir {log_folder}{model_name}\n",
    "!mkdir {model_folder}{model_name}\n",
    "!mkdir {result_data_folder}{model_name}"
   ]
  },
  {
   "cell_type": "code",
   "execution_count": null,
   "id": "2b583caa",
   "metadata": {},
   "outputs": [],
   "source": [
    "'''Define training arguments'''\n",
    "\n",
    "writer = SummaryWriter(log_folder + model_name)\n",
    "\n",
    "args = {\n",
    "        'model' : model, 'optimizer' : optimizer, \n",
    "        'train_loader' : train_loader, 'test_loader': test_loader,\n",
    "        'num_epochs' : total_epochs, 'writer' : writer,\n",
    "        'starting_epoch' : starting_epoch, \n",
    "        'starting_batch_train' : starting_batch_train,\n",
    "        'mean' : mean, 'std' : std,\n",
    "        'gradient_type' : model_info['grad_type'], 'gradient_clip' : model_info['GC'],\n",
    "        'computeMSE' : False, 'verbose' : writer,\n",
    "        'save_folder' : model_folder + model_name, 'save_every' : save_every,\n",
    "        'save_type' : 'checkpoint', 'device' : DEVICE\n",
    "       }"
   ]
  },
  {
   "cell_type": "code",
   "execution_count": null,
   "id": "17fcb365",
   "metadata": {
    "scrolled": true
   },
   "outputs": [],
   "source": [
    "'''Training'''\n",
    "\n",
    "train_losses, eval_losses = train_model(**args)\n",
    "writer.flush()\n",
    "writer.close()"
   ]
  }
 ],
 "metadata": {
  "kernelspec": {
   "display_name": "Python 3 (ipykernel)",
   "language": "python",
   "name": "python3"
  },
  "language_info": {
   "codemirror_mode": {
    "name": "ipython",
    "version": 3
   },
   "file_extension": ".py",
   "mimetype": "text/x-python",
   "name": "python",
   "nbconvert_exporter": "python",
   "pygments_lexer": "ipython3",
   "version": "3.9.12"
  },
  "toc": {
   "base_numbering": 1,
   "nav_menu": {},
   "number_sections": true,
   "sideBar": true,
   "skip_h1_title": false,
   "title_cell": "Table of Contents",
   "title_sidebar": "Contents",
   "toc_cell": false,
   "toc_position": {
    "height": "calc(100% - 180px)",
    "left": "10px",
    "top": "150px",
    "width": "175.764px"
   },
   "toc_section_display": true,
   "toc_window_display": true
  }
 },
 "nbformat": 4,
 "nbformat_minor": 5
}
