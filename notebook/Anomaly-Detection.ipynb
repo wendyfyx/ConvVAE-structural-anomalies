{
 "cells": [
  {
   "cell_type": "markdown",
   "id": "22d0d2c7",
   "metadata": {},
   "source": [
    "# Set up"
   ]
  },
  {
   "cell_type": "code",
   "execution_count": null,
   "id": "aab8b1f1",
   "metadata": {},
   "outputs": [],
   "source": [
    "import os\n",
    "import sys\n",
    "\n",
    "module_path = os.path.abspath(os.path.join('../src/'))\n",
    "print(module_path)\n",
    "if module_path not in sys.path:\n",
    "    sys.path.append(module_path)"
   ]
  },
  {
   "cell_type": "code",
   "execution_count": null,
   "id": "5c3100bb",
   "metadata": {},
   "outputs": [],
   "source": [
    "%reload_ext autoreload\n",
    "%autoreload 2\n",
    "    \n",
    "import re\n",
    "import glob\n",
    "import random\n",
    "import pickle\n",
    "import scipy\n",
    "import numpy as np\n",
    "import pandas as pd\n",
    "import matplotlib as mpl\n",
    "import matplotlib.pyplot as plt\n",
    "import plotly.express as px\n",
    "import seaborn as sns\n",
    "from tqdm.auto import tqdm\n",
    "from collections import Counter, defaultdict\n",
    "from itertools import combinations, permutations\n",
    "from sklearn import linear_model\n",
    "from sklearn.metrics import mean_absolute_error\n",
    "from scipy.stats import ttest_ind, levene\n",
    "from statsmodels.stats.multitest import multipletests\n",
    "\n",
    "import dipy\n",
    "from dipy.segment.metric import mdf\n",
    "from dipy.viz import window, actor\n",
    "from dipy.stats.analysis import assignment_map\n",
    "from nibabel.streamlines.array_sequence import ArraySequence\n",
    "\n",
    "from data.FiberData import FiberData\n",
    "from data.BundleData import BundleData\n",
    "from data.data_util import *\n",
    "from utils.general_util import *\n",
    "from utils.plot_util import *\n",
    "from utils.line_fit import *\n",
    "from model.model import *\n",
    "from evaluation import *\n",
    "from inference import *"
   ]
  },
  {
   "cell_type": "code",
   "execution_count": null,
   "id": "fa11f39b",
   "metadata": {},
   "outputs": [],
   "source": [
    "SEED = 2022\n",
    "DEVICE_NUM = 5\n",
    "set_seed(seed=SEED)\n",
    "DEVICE = set_device()\n",
    "if DEVICE == 'cuda':\n",
    "    torch.cuda.set_device(DEVICE_NUM)\n",
    "    print(torch.cuda.device_count(), \n",
    "          torch.cuda.current_device(),\n",
    "          torch.cuda.get_device_name(DEVICE_NUM))"
   ]
  },
  {
   "cell_type": "code",
   "execution_count": null,
   "id": "eba4113b",
   "metadata": {},
   "outputs": [],
   "source": [
    "result_folder = \"../results/\"\n",
    "model_folder = f\"{result_folder}models/\"\n",
    "plot_folder = f\"{result_folder}plots/\"\n",
    "result_data_folder = f\"{result_folder}data/\"\n",
    "log_folder = f\"{result_folder}logs/\"\n",
    "eval_folder = f\"{result_folder}evals/\"\n",
    "data_files_folder = \"../data_files/\"\n",
    "\n",
    "# CHANGE DATA FOLDER BELOW\n",
    "data_folder = \"\""
   ]
  },
  {
   "cell_type": "markdown",
   "id": "95a9c2e0",
   "metadata": {},
   "source": [
    "# Load Metadata"
   ]
  },
  {
   "cell_type": "markdown",
   "id": "6337cac3",
   "metadata": {},
   "source": [
    "Change this section accordingly if your dataset have metadata"
   ]
  },
  {
   "cell_type": "code",
   "execution_count": null,
   "id": "9e9e86e0",
   "metadata": {},
   "outputs": [],
   "source": [
    "bundle_names = load_pickle(f\"{data_files_folder}bundle_names\")"
   ]
  },
  {
   "cell_type": "code",
   "execution_count": null,
   "id": "7f2ef2c3",
   "metadata": {},
   "outputs": [],
   "source": [
    "'''Load metadata with bundle count and streamline count'''\n",
    "df_meta = pd.read_csv(data_files_folder + \"metadata.csv\").sort_values('Subject')\n",
    "print(df_meta.shape)\n",
    "print(df_meta.DX.value_counts())"
   ]
  },
  {
   "cell_type": "markdown",
   "id": "1783a55d",
   "metadata": {},
   "source": [
    "# Load Inference Data"
   ]
  },
  {
   "cell_type": "code",
   "execution_count": null,
   "id": "b031ba5f",
   "metadata": {},
   "outputs": [],
   "source": [
    "def load_inference(subj_name, model_subfolder, \n",
    "                   epoch, seed=SEED):\n",
    "    \n",
    "    data_args = {'n_points' : 256, 'n_lines' : None, 'min_lines' : 2, \n",
    "                'tracts_exclude' : ['CST_L_s', 'CST_R_s'], 'preprocess' : '3d', \n",
    "                'rng' : np.random.RandomState(seed), 'verbose': False, \n",
    "                'data_folder' : data_folder, \n",
    "                'align_bundles_path' : f\"{data_files_folder}bundle_centroid\"}\n",
    "\n",
    "    subj = BundleData(subj_name, **data_args)    \n",
    "    subj.load_inference_data(f\"{result_data_folder}{model_subfolder}/E{epoch}_{subj_name}\")\n",
    "    return subj"
   ]
  },
  {
   "cell_type": "code",
   "execution_count": null,
   "id": "8bbb6ff7",
   "metadata": {},
   "outputs": [],
   "source": [
    "'''Load Model'''\n",
    "zdim = 6\n",
    "model_subfolder = f'convVAE3L_XUXU_Z{zdim}_B512_LR2E-04_WD1E-03_GCN2E+00_CN10'\n",
    "epoch = 100\n",
    "model, mean, std = load_model_for_inference(model_subfolder, model_folder, epoch, DEVICE)\n",
    "print(mean, std)\n",
    "msetting = parse_model_setting(model_subfolder)\n",
    "msetting"
   ]
  },
  {
   "cell_type": "code",
   "execution_count": null,
   "id": "1d9e756e",
   "metadata": {},
   "outputs": [],
   "source": [
    "key = \"subj_train\"\n",
    "# suffix=f\"_{key}{msetting[key]:.0E}\" if key in msetting else \"\"\n",
    "if key in msetting:\n",
    "    if isinstance(msetting[key], float):\n",
    "        suffix = f\"_{key}{msetting[key]:.0E}\" \n",
    "    elif isinstance(msetting[key], int):\n",
    "        suffix = f\"_{key}{msetting[key]}\" \n",
    "    elif isinstance(msetting[key], str):\n",
    "        suffix = f\"_{msetting[key]}\"\n",
    "    else:\n",
    "        suffix=\"\"\n",
    "suffix"
   ]
  },
  {
   "cell_type": "code",
   "execution_count": null,
   "id": "05545649",
   "metadata": {},
   "outputs": [],
   "source": [
    "'''Load inference data for single subject'''\n",
    "\n",
    "subj_name_cn = 'example-CN-subj-name' # CN\n",
    "subj_cn = load_inference(subj_name_cn, model_subfolder, \n",
    "                      result_data_folder, data_folder,\n",
    "                      epoch, seed=SEED)\n",
    "\n",
    "subj_name_ad = 'example-AD-subj-name' # AD\n",
    "subj_ad = load_inference(subj_name_ad, model_subfolder, \n",
    "                      result_data_folder, data_folder,\n",
    "                      epoch, seed=SEED)"
   ]
  },
  {
   "cell_type": "markdown",
   "id": "752abd4e",
   "metadata": {},
   "source": [
    "# Anomaly Detection\n",
    "\n",
    "Using MAE as metric"
   ]
  },
  {
   "cell_type": "markdown",
   "id": "0e0adde8",
   "metadata": {},
   "source": [
    "## Bundle Specific"
   ]
  },
  {
   "cell_type": "markdown",
   "id": "8c2d7b1f",
   "metadata": {},
   "source": [
    "### MAE (Reconstruction)"
   ]
  },
  {
   "cell_type": "code",
   "execution_count": null,
   "id": "15b82286",
   "metadata": {},
   "outputs": [],
   "source": [
    "def compute_mae(x, xb):\n",
    "    x = x.reshape((x.shape[0],-1))\n",
    "    xb = xb.reshape((xb.shape[0], -1))\n",
    "    return mean_absolute_error(x, xb)\n",
    "\n",
    "def get_bundle_mae(model_subfolder, eval_folder, epoch, save_df=True, suffix=None):\n",
    "        \n",
    "    if do_filter:\n",
    "        suffix = suffix+\"_filtered\"\n",
    "        \n",
    "    if not save_df:\n",
    "        return pd.read_csv(f\"{eval_folder}mae_bundle{suffix}.csv\")\n",
    "    \n",
    "    ls = [] # list of [subj, bundle, mae, count]\n",
    "    for i, fname in enumerate(list(glob.glob(f\"{result_data_folder}{model_subfolder}/E{epoch}*.pkl\"))):\n",
    "        subj_name = re.search(f\"(?<=E{epoch}_)(.*)(?=.pkl)\", fname).group(1)\n",
    "        print(f\"{i+1}: {subj_name}\")\n",
    "        subj = load_inference(subj_name, model_subfolder, epoch)\n",
    "        \n",
    "        \n",
    "        for bName in subj.bundle_idx.keys():\n",
    "            bIdx = subj.get_subj_bundle_idx(bName)\n",
    "            mae = compute_mae(subj.X[bIdx], subj.X_recon[bIdx])\n",
    "            ls.append([subj_name, bName, mae, len(bIdx)])\n",
    "    \n",
    "        ls.append([subj_name,'all', \n",
    "                   compute_mae(subj.X, subj.X_recon), \n",
    "                   subj.X.shape[0]])\n",
    "      \n",
    "    df = pd.DataFrame(ls, columns=['Subject','Bundle','MAE','Count'])\n",
    "    \n",
    "    df.to_csv(f\"{eval_folder}mae_bundle{suffix}.csv\", index=False) \n",
    "    return df"
   ]
  },
  {
   "cell_type": "markdown",
   "id": "50033bc6",
   "metadata": {},
   "source": [
    "When running for the first time, set `save_df` to `True` to save the MAE to file. \n",
    "Set this variable to `False` to load it from file."
   ]
  },
  {
   "cell_type": "code",
   "execution_count": null,
   "id": "19539b3d",
   "metadata": {
    "scrolled": true
   },
   "outputs": [],
   "source": [
    "%%time\n",
    "df_mae_all = get_bundle_mae(model_subfolder, eval_folder, epoch, \n",
    "                            save_df=False, suffix=suffix)\n",
    "\n",
    "df_mae = df_mae_all.loc[~df_mae_all.Subject.isin(subjs_train)]\n",
    "print(df_mae.shape, len(df_mae.Subject.unique()))\n",
    "df_mae.head()"
   ]
  },
  {
   "cell_type": "markdown",
   "id": "1eed0089",
   "metadata": {},
   "source": [
    "### TTest + FDR"
   ]
  },
  {
   "cell_type": "code",
   "execution_count": null,
   "id": "e78958a4",
   "metadata": {},
   "outputs": [],
   "source": [
    "def regress_age_sex(df, df_meta, cols=['MAE']):\n",
    "    df = df.merge(df_meta[['Subject','Sex','Age']], on='Subject')\n",
    "    regr = linear_model.LinearRegression()\n",
    "    dummies = pd.get_dummies(df.Sex)\n",
    "    regress = pd.DataFrame()\n",
    "    regress['Age'] = df['Age']\n",
    "    regress['Sex'] = dummies.M\n",
    "    \n",
    "    x = regress.values\n",
    "    y = np.mean(df[cols], axis=1).values\n",
    "    regr.fit(x, y)\n",
    "    y_pred = regr.predict(x)\n",
    "    \n",
    "    corrected = df[cols].sub(y_pred, axis=0) \\\n",
    "                        .add(np.mean(df[cols], axis=1), axis=0)\n",
    "    df.loc[:, cols]=corrected\n",
    "    return df.drop(columns=['Age','Sex'])"
   ]
  },
  {
   "cell_type": "code",
   "execution_count": null,
   "id": "1fcdb169",
   "metadata": {},
   "outputs": [],
   "source": [
    "df_mae = regress_age_sex(df_mae, df_meta, cols=['MAE'])"
   ]
  },
  {
   "cell_type": "code",
   "execution_count": null,
   "id": "0050f326",
   "metadata": {},
   "outputs": [],
   "source": [
    "p_ls = []\n",
    "for bName in df_mae.Bundle.unique():\n",
    "    df_b = df_mae.loc[df_mae.Bundle==bName] \\\n",
    "            .merge(df_meta[['Subject', 'DX']], on='Subject') \\\n",
    "            .drop(columns=['Subject','Bundle','Count'])\n",
    "    t_cn = df_b.loc[df_b.DX=='CN'].MAE.values\n",
    "    t_mci = df_b.loc[df_b.DX=='MCI'].MAE.values\n",
    "    t_ad = df_b.loc[df_b.DX=='Dementia'].MAE.values\n",
    "\n",
    "    p_ls.append([bName, \n",
    "                 ttest_ind(t_cn, t_mci, equal_var=True).pvalue, \n",
    "                 ttest_ind(t_cn, t_ad, equal_var=True).pvalue,\n",
    "                 ttest_ind(t_mci, t_ad, equal_var=True).pvalue])\n",
    "df_bundle_pval = pd.DataFrame(p_ls, columns=['Bundle','MCI','Dementia','MCI-AD']) \\\n",
    "                    .sort_values('Bundle', ascending=True)\n",
    "df_bundle_pval.head()"
   ]
  },
  {
   "cell_type": "code",
   "execution_count": null,
   "id": "6a0dc013",
   "metadata": {},
   "outputs": [],
   "source": [
    "df_bundle_pval['MCI_FDR']=multipletests(df_bundle_pval['MCI'], method='fdr_bh')[1]\n",
    "df_bundle_pval['Dementia_FDR']=multipletests(df_bundle_pval['Dementia'], method='fdr_bh')[1]\n",
    "df_bundle_pval['MCI-AD_FDR']=multipletests(df_bundle_pval['MCI-AD'], method='fdr_bh')[1]"
   ]
  },
  {
   "cell_type": "code",
   "execution_count": null,
   "id": "96a1ecde",
   "metadata": {
    "scrolled": true
   },
   "outputs": [],
   "source": [
    "fdr=True\n",
    "\n",
    "fdr_suffix=\"_FDR\" if fdr else \"\"\n",
    "\n",
    "df_plot = df_bundle_pval[[f'MCI{fdr_suffix}',f'Dementia{fdr_suffix}']]\n",
    "d = {True: \"*\", False: \"\"}\n",
    "df_rej = df_plot<0.05\n",
    "df_rej[f'MCI{fdr_suffix}'] = df_rej[f'MCI{fdr_suffix}'].map(d)\n",
    "df_rej[f'Dementia{fdr_suffix}'] = df_rej[f'Dementia{fdr_suffix}'].map(d)\n",
    "# df_rej[f'MCI-AD{fdr_suffix}'] = df_rej[f'MCI-AD{fdr_suffix}'].map(d)\n",
    "\n",
    "fig, ax = plt.subplots(figsize=(20,2))\n",
    "sns.heatmap(df_plot.T, \n",
    "            cmap='Blues_r',linewidth=0.1,\n",
    "            annot=df_rej.T, fmt='s', annot_kws={\"size\": 14}, \n",
    "            ax=ax)\n",
    "ax.set_xticklabels(df_bundle_pval.Bundle, rotation=90)\n",
    "fig.show()\n",
    "df_rej['Bundle']=df_bundle_pval['Bundle']"
   ]
  },
  {
   "cell_type": "code",
   "execution_count": null,
   "id": "5827e32f",
   "metadata": {},
   "outputs": [],
   "source": [
    "ad_sig_bundles = df_rej.loc[df_rej[f'Dementia{fdr_suffix}']=='*'].Bundle.values\n",
    "ad_sig_bundles"
   ]
  },
  {
   "cell_type": "markdown",
   "id": "2e5cd0ae",
   "metadata": {},
   "source": [
    "### Plot Bundle Anomaly"
   ]
  },
  {
   "cell_type": "code",
   "execution_count": null,
   "id": "3eca5ca9",
   "metadata": {},
   "outputs": [],
   "source": [
    "def compute_wa_bundle(df, key, metric='MAE'):\n",
    "    '''\n",
    "        Get weight average of MAE with line count as weight\n",
    "        key specify column name of result\n",
    "    '''\n",
    "    df[\"WSum\"] = df[metric] * df[\"Count\"]\n",
    "    df_wa = df.groupby('Bundle').sum()\n",
    "    df_wa[key]=df_wa['WSum']/df_wa['Count']\n",
    "    return df_wa[[key]].sort_values(key, ascending=False)\n",
    "\n",
    "def get_wa_bundle_by_dx(df_anom, df_meta, metric='MAE'):\n",
    "    '''Get weight average of MAE of bundle for each diagnosis group'''\n",
    "    df = df_anom[['Bundle']].drop_duplicates()\n",
    "    for dx in set(df_meta.DX):\n",
    "        subjs_idx = df_meta.loc[df_meta.DX==dx].Subject.values\n",
    "        df_dx = df_anom.loc[df_anom.Subject.isin(subjs_idx)].copy()\n",
    "        df_wa = compute_wa_bundle(df_dx, dx, metric=metric)\n",
    "        df = df.merge(df_wa, on='Bundle')\n",
    "    return df"
   ]
  },
  {
   "cell_type": "code",
   "execution_count": null,
   "id": "c34d8b90",
   "metadata": {},
   "outputs": [],
   "source": [
    "metric='MAE'\n",
    "df_wa = get_wa_bundle_by_dx(df_mae, df_meta, metric=metric).sort_values('CN', ascending=False)\n",
    "print(df_wa.shape)\n",
    "df_wa.head()"
   ]
  },
  {
   "cell_type": "code",
   "execution_count": null,
   "id": "95e2b346",
   "metadata": {},
   "outputs": [],
   "source": [
    "ax = df_wa.plot.bar(x='Bundle', y=['CN','MCI','Dementia'], \n",
    "                    color={'CN':'g','MCI':'b','Dementia':'r'},\n",
    "                    width=0.6, rot=90,\n",
    "                    fontsize=12, figsize=(18,8))\n",
    "ax.set_xlabel('Bundle', fontsize=15)\n",
    "ax.set_ylabel(metric, fontsize=15)\n",
    "ax.legend(fontsize=12).set_title('Group',prop={'size':15})"
   ]
  },
  {
   "cell_type": "code",
   "execution_count": null,
   "id": "e361302a",
   "metadata": {},
   "outputs": [],
   "source": [
    "df_wa['MCI_Diff'] = df_wa['MCI']-df_wa['CN']\n",
    "df_wa['Dementia_Diff'] = df_wa['Dementia']-df_wa['CN']\n",
    "df_wa = df_wa.sort_values('Dementia_Diff', ascending=True)\n",
    "df_wa = df_wa.merge(df_rej, on='Bundle')"
   ]
  },
  {
   "cell_type": "code",
   "execution_count": null,
   "id": "9d029319",
   "metadata": {},
   "outputs": [],
   "source": [
    "df_plot=df_wa.merge(df_bundle_pval[['Bundle','MCI_FDR','Dementia_FDR']], on='Bundle', suffixes=('','_pval'))\n",
    "df_plot.MCI_FDR_pval = df_plot.MCI_FDR_pval.round(decimals=5)\n",
    "df_plot.Dementia_FDR_pval = df_plot.Dementia_FDR_pval.round(decimals=5)\n",
    "df_plot.loc[df_plot.Dementia_FDR=='', 'Dementia_FDR_pval']= \"\"\n",
    "df_plot.loc[df_plot.MCI_FDR=='', 'MCI_FDR_pval']= \"\""
   ]
  },
  {
   "cell_type": "code",
   "execution_count": null,
   "id": "9d90d843",
   "metadata": {},
   "outputs": [],
   "source": [
    "ax=df_plot.plot.barh(x='Bundle', y=['MCI_Diff','Dementia_Diff'], width=0.9,\n",
    "          color={'MCI_Diff':'b','Dementia_Diff':'r'}, align='center',\n",
    "          fontsize=14, figsize=(20,12))\n",
    "ax2 = ax.twinx()\n",
    "\n",
    "ax.set_xlabel(\"MAE\", fontsize=16)\n",
    "ax.yaxis.label.set_visible(False)\n",
    "ax.legend([\"MCI-CN\",'AD-CN'], prop={'size': 16})\n",
    "\n",
    "# get first axis tick labels\n",
    "bundle_names['all'] = 'all_bundles'\n",
    "axlabels = [item.get_text() for item in ax.get_yticklabels()]\n",
    "ax2labels = map_list_with_dict(axlabels, bundle_names)\n",
    "\n",
    "# get absolute tick position\n",
    "y_min, y_max = ax.get_ylim()\n",
    "tickpos = [(tick - y_min)/(y_max - y_min) for tick in ax.get_yticks()]\n",
    "# set secondary yticks positions and labels\n",
    "ax2.set_yticks(tickpos)\n",
    "ax2.set_yticklabels(ax2labels, fontsize=14)\n",
    "\n",
    "for i, container in enumerate(ax.containers):\n",
    "    colname = container.get_label().split('_')[0]+fdr_suffix\n",
    "    ax.bar_label(container, labels=df_plot[colname],\n",
    "                 padding=2, fontsize=14)\n",
    "plt.tight_layout()\n",
    "plt.savefig(f\"{plot_folder}mae_bundle.pdf\")"
   ]
  },
  {
   "cell_type": "markdown",
   "id": "8bb4001a",
   "metadata": {},
   "source": [
    "## Segment MAE"
   ]
  },
  {
   "cell_type": "markdown",
   "id": "fe4173d6",
   "metadata": {},
   "source": [
    "Download atlas dataset [here](https://figshare.com/articles/dataset/Atlas_of_30_Human_Brain_Bundles_in_MNI_space/12089652) for creating bundle segments."
   ]
  },
  {
   "cell_type": "code",
   "execution_count": null,
   "id": "bd1bea85",
   "metadata": {},
   "outputs": [],
   "source": [
    "# CHANGE THIS FOLDER NAME ACCORDINGLY\n",
    "atlas_data_folder = \"\"\n",
    "\n",
    "def parse_atlas_tract_name(fname):\n",
    "    return fname.split(\".\")[0]\n",
    "    \n",
    "args = {'n_points' : 256, 'n_lines' : None, 'min_lines' : 2, \n",
    "        'tracts_exclude' : ['CST_L_s', 'CST_R_s'],'preprocess' : '3d', \n",
    "        'rng' : None, 'verbose': False, 'parse_tract_func' : parse_atlas_tract_name,\n",
    "        'data_folder' : atlas_data_folder, 'sub_folder_path' : \"bundles/\"}\n",
    "\n",
    "atlas_data = BundleData(\"\", **args)"
   ]
  },
  {
   "cell_type": "markdown",
   "id": "1cbf4c4c",
   "metadata": {},
   "source": [
    "### Compute Segment MAE"
   ]
  },
  {
   "cell_type": "code",
   "execution_count": null,
   "id": "67223b78",
   "metadata": {},
   "outputs": [],
   "source": [
    "def compute_segment_mae(subj, bname, bIdx=None, n_segments=100):\n",
    "    \n",
    "    model_bundle = atlas_data.X[atlas_data.get_subj_bundle_idx(bname)]\n",
    "    bundle = subj.X[subj.get_subj_bundle_idx(bname)]\n",
    "    bundle_recon = subj.X_recon[subj.get_subj_bundle_idx(bname)]\n",
    "    if bIdx is not None:\n",
    "        bundle = bundle[bIdx]\n",
    "        bundle_recon = bundle_recon[bIdx]\n",
    "    indx = assignment_map(ArraySequence(bundle), \n",
    "                          ArraySequence(model_bundle),\n",
    "                          n_segments)\n",
    "    \n",
    "    ls = []\n",
    "    for i in range(n_segments):\n",
    "        segment = bundle.reshape(-1, 3)[np.where(indx==i)]\n",
    "        segment_recon = bundle_recon.reshape(-1, 3)[np.where(indx==i)]\n",
    "        if len(segment)==0 and len(segment_recon)==0:\n",
    "            ls.append(0)\n",
    "        else:\n",
    "            ls.append(mean_absolute_error(segment, segment_recon))\n",
    "    return ls\n",
    "\n",
    "def save_segment_mae(n_segments=100, suffix=None):\n",
    "    '''\n",
    "        [RUN ONCE]\n",
    "        Save to file MAE at each position in line for each bundle and subject\n",
    "        Each bundle is saved to its own sheet in the excel file\n",
    "    '''\n",
    "    if do_filter and not suffix.endswith(\"filtered\"):\n",
    "        suffix = suffix+\"_filtered\"\n",
    "        \n",
    "    result_dict = defaultdict(list)\n",
    "\n",
    "    for i, fname in enumerate(list(glob.glob(f\"{result_data_folder}{model_subfolder}/E{epoch}*.pkl\"))):\n",
    "        subj_name = re.search(f\"(?<=E{epoch}_)(.*)(?=.pkl)\", fname).group(1)\n",
    "        print(f\"{i+1}: {subj_name}\")\n",
    "\n",
    "        subj = load_inference(subj_name, model_subfolder, epoch)\n",
    "\n",
    "        for bName in subj.bundle_idx.keys():\n",
    "            bIdx = subj.get_subj_bundle_idx(bName)\n",
    "            entry = [subj_name, len(bIdx)]\n",
    "            entry.extend(compute_segment_mae(subj, bName, \n",
    "                                             bIdx=d_filtered[bName], n_segments=n_segments))\n",
    "            result_dict[bName].append(entry)\n",
    "    \n",
    "    # Save to file\n",
    "    names=['Subject','Count']\n",
    "    names.extend([i for i in range(n_segments)])\n",
    "    with pd.ExcelWriter(f\"{eval_folder}mae_segment_S{n_segments}{suffix}.xlsx\") as writer:  \n",
    "        for bundle, value in result_dict.items():\n",
    "            result = pd.DataFrame(value, columns=names)\n",
    "            result.to_excel(writer, sheet_name=bundle, index=0)  "
   ]
  },
  {
   "cell_type": "code",
   "execution_count": null,
   "id": "6f425d9f",
   "metadata": {
    "scrolled": true
   },
   "outputs": [],
   "source": [
    "# RUN ONCE\n",
    "save_segment_mae(suffix=suffix)"
   ]
  },
  {
   "cell_type": "markdown",
   "id": "f7de4cf2",
   "metadata": {},
   "source": [
    "### Plot along-tract MAE"
   ]
  },
  {
   "cell_type": "code",
   "execution_count": null,
   "id": "e6a69e6a",
   "metadata": {},
   "outputs": [],
   "source": [
    "'''Functions for loading MAE at line position and computing WA for'''\n",
    "\n",
    "def load_segment_mae(bName, n_segments=100, select=None, suffix=None):\n",
    "    '''Load from file MAE for each position in line for bundle'''\n",
    "    df = pd.read_excel(open(f\"{eval_folder}mae_segment_S{n_segments}{suffix}.xlsx\", 'rb'), \n",
    "                  sheet_name=bName, index_col=None)\n",
    "    df['Subject']=df['Subject'].astype(str)\n",
    "    if select is not None:\n",
    "        return df[df.Subject.isin(select)]\n",
    "    return df\n",
    "\n",
    "def compute_mae_wa_segment(df, n_segments=100):\n",
    "    return (df[range(n_segments)].mul(df['Count'], axis=0).sum(axis=0)/df.Count.sum()).values\n",
    "\n",
    "def get_mae_wa_segment_dx(bName, df_meta, n_segments=100, \n",
    "                          exclude=None, suffix=None, keep_subj=False):\n",
    "    '''Get weight average of MAE at position for each diagnosis group'''\n",
    "    df = pd.DataFrame()\n",
    "    dict_dx={}\n",
    "    for dx in set(df_meta.DX):\n",
    "        subjs = df_meta.loc[df_meta.DX==dx].Subject.values\n",
    "        if exclude is not None:\n",
    "            subjs = set(subjs)-set(exclude)\n",
    "        df_mae_sel = load_segment_mae(bName, n_segments=n_segments, \n",
    "                                      select=subjs, suffix=suffix)\n",
    "        df_mae_sel = regress_age_sex(df_mae_sel, df_meta, cols=range(100))\n",
    "        if keep_subj:\n",
    "            dict_dx[dx] = df_mae_sel\n",
    "        else:\n",
    "            dict_dx[dx] = df_mae_sel.drop(columns=['Count','Subject']).T\n",
    "        df[dx] = compute_mae_wa_segment(df_mae_sel, n_segments=n_segments)\n",
    "    return df, dict_dx"
   ]
  },
  {
   "cell_type": "code",
   "execution_count": null,
   "id": "a06f7ac5",
   "metadata": {},
   "outputs": [],
   "source": [
    "bundle='AF_L'\n",
    "df_wa, dict_dx = get_mae_wa_segment_dx(bundle, df_meta, exclude=subjs_train, suffix=suffix)"
   ]
  },
  {
   "cell_type": "code",
   "execution_count": null,
   "id": "f7569f94",
   "metadata": {},
   "outputs": [],
   "source": [
    "'''Plot along tract MAE with 95% CI'''\n",
    "fig, ax = plt.subplots(figsize=(13,8))\n",
    "d_color = {'CN':'g', 'MCI':'b', 'Dementia':'r'}\n",
    "for dx, df in dict_dx.items():\n",
    "    df = dict_dx[dx].reset_index().melt(id_vars='index', value_name = 'MAE') \\\n",
    "                    .drop(columns=['variable'])\n",
    "    sns.lineplot(data=df, x='index',y='MAE', \n",
    "                 color=d_color[dx], label=dx,\n",
    "                 alpha=0.6, \n",
    "                 ci=95,\n",
    "                 ax=ax)\n",
    "\n",
    "ax.set_ylabel('MAE', fontsize=16)\n",
    "ax.set_xlabel(f'Segment Number', fontsize=16)\n",
    "ax.set_ylim([0, 4])\n",
    "\n",
    "l = ax.legend(title=f\"{bundle}\", loc='upper center', \n",
    "#             bbox_to_anchor=(0.5, 1.12), \n",
    "              fontsize=16, title_fontsize=16,\n",
    "              ncol=3, fancybox=True, shadow=False)"
   ]
  },
  {
   "cell_type": "markdown",
   "id": "660d2e6a",
   "metadata": {},
   "source": [
    "### T-test + FDR"
   ]
  },
  {
   "cell_type": "code",
   "execution_count": null,
   "id": "2a7709d7",
   "metadata": {},
   "outputs": [],
   "source": [
    "def ttest_along_tract_segment_fdr(bName, n1='CN', n2='AD', n_segments=100, suffix=None):\n",
    "    df_wa, dict_dx = get_mae_wa_segment_dx(bName, df_meta, \n",
    "                                      exclude=subjs_train,\n",
    "                                      suffix=suffix)\n",
    "    pvals = []\n",
    "    for i in range(n_segments):\n",
    "        t1 = dict_dx[n1].iloc[i]\n",
    "        t2 = dict_dx[n2].iloc[i]\n",
    "\n",
    "        pvals.append(ttest_ind(t1, t2, equal_var=True).pvalue)\n",
    "    df_wa[f'pval_{n1}_{n2}']=pvals\n",
    "    df_wa['Bundle']=bName\n",
    "    return df_wa\n",
    "\n",
    "def ttest_multi_tract_fdr(bNames, n1='CN', n2='AD', n_segments=100, suffix=None):\n",
    "    df_ls = []\n",
    "    for bName in tqdm(bNames):\n",
    "        df_ls.append(ttest_along_tract_segment_fdr(bName, n1, n2, \n",
    "                                                   n_segments=n_segments, suffix=suffix))\n",
    "    df = pd.concat(df_ls, ignore_index=True)\n",
    "    fdr = multipletests(df[f'pval_{n1}_{n2}'], method='fdr_bh')\n",
    "    df[f'rej_fdr']=fdr[0]\n",
    "    df[f'pval_fdr'] = fdr[1]\n",
    "    return df\n",
    "\n",
    "bundle_names = load_pickle(f\"{data_files_folder}bundle_names\")\n",
    "df_test = ttest_multi_tract_fdr(ad_sig_bundles, n1='CN',n2='Dementia', suffix=suffix)\n",
    "df_test.head()"
   ]
  },
  {
   "cell_type": "code",
   "execution_count": null,
   "id": "2f9b7a9e",
   "metadata": {},
   "outputs": [],
   "source": [
    "df_test['bundle_rej_fdr']=df_test.groupby('Bundle')[f'pval_CN_Dementia'] \\\n",
    "                                .transform(lambda s: multipletests(s,method='fdr_bh')[0])\n",
    "df_test['bundle_pval_fdr']=df_test.groupby('Bundle')[f'pval_CN_Dementia'] \\\n",
    "                                .transform(lambda s: multipletests(s, method='fdr_bh')[1])\n",
    "df_test.head()"
   ]
  },
  {
   "cell_type": "code",
   "execution_count": null,
   "id": "44df8a1e",
   "metadata": {},
   "outputs": [],
   "source": [
    "df_test.loc[df_test.rej_fdr].Bundle.value_counts()"
   ]
  },
  {
   "cell_type": "markdown",
   "id": "39258ee4",
   "metadata": {},
   "source": [
    "### Visualize"
   ]
  },
  {
   "cell_type": "code",
   "execution_count": null,
   "id": "2594fd36",
   "metadata": {},
   "outputs": [],
   "source": [
    "def generate_disk_colors(indx, n, colors, seed=SEED):\n",
    "    disks_color = []\n",
    "    for i in range(len(indx)):\n",
    "        disks_color.append(tuple(colors[indx[i]]))\n",
    "    return disks_color"
   ]
  },
  {
   "cell_type": "code",
   "execution_count": null,
   "id": "803d4123",
   "metadata": {},
   "outputs": [],
   "source": [
    "bundle='CCMid'\n",
    "df_wa, dict_dx = get_mae_wa_segment_dx(bundle, df_meta, \n",
    "                                   exclude=subjs_train, suffix=suffix)\n",
    "df_test_bundle = df_test.loc[df_test.Bundle==bundle]\n",
    "df_test_bundle=df_test_bundle.reset_index()"
   ]
  },
  {
   "cell_type": "code",
   "execution_count": null,
   "id": "539fea09",
   "metadata": {},
   "outputs": [],
   "source": [
    "pvals = df_test_bundle.pval_fdr.values\n",
    "logp = -np.log10(pvals)\n",
    "\n",
    "fig, ax = plt.subplots(figsize=(12,8))\n",
    "\n",
    "mask_sig = np.where(pvals<0.05)\n",
    "mask_nonsig = np.where(pvals>=0.05)\n",
    "seg_idx = np.arange(0,100,1)\n",
    "\n",
    "plt.bar(seg_idx[mask_nonsig], logp[mask_nonsig], color='b', alpha=0.7)\n",
    "plt.bar(seg_idx[mask_sig], logp[mask_sig], color='r', alpha=0.7)\n",
    "plt.axhline(-np.log10(0.05), c='grey', linestyle='dashed', \n",
    "            label='p=0.05')\n",
    "\n",
    "ax.set_ylim([0,2])\n",
    "ax.set_xlabel('Segment Number', fontsize=16)\n",
    "ax.set_ylabel(\"-log10(pval)\", fontsize=16)\n",
    "ax.legend(title=bundle, title_fontsize=16, fontsize=16)\n",
    "\n",
    "n_sig = df_test.loc[df_test.Bundle==bundle].rej_fdr.value_counts().loc[True]\n",
    "l = ax.legend(title=f\"{bundle}\\n N(significant segments={n_sig}\", loc='upper right', \n",
    "#             bbox_to_anchor=(0.5, 1.12), \n",
    "              fontsize=16, title_fontsize=16,\n",
    "              ncol=3, fancybox=True, shadow=False)\n",
    "plt.setp(l.get_title(), multialignment='center')"
   ]
  },
  {
   "cell_type": "code",
   "execution_count": null,
   "id": "5478e805",
   "metadata": {},
   "outputs": [],
   "source": [
    "lines = atlas_data.X[atlas_data.get_subj_bundle_idx(bundle)]\n",
    "print(lines.shape)\n",
    "indx = assignment_map(ArraySequence(lines), \n",
    "                      ArraySequence(lines), 100)"
   ]
  },
  {
   "cell_type": "code",
   "execution_count": null,
   "id": "8134b66e",
   "metadata": {},
   "outputs": [],
   "source": [
    "'''Make colormap based on p-value of CN vs. AD'''\n",
    "\n",
    "color_dict={True : [1,0,0], False : [0,0,1]}\n",
    "# plt.scatter(range(100), df_test_bundle.pval_fdr, s=5, \n",
    "#             c=map_list_with_dict(df_test_bundle.rej_fdr, color_dict))\n",
    "\n",
    "colors = map_list_with_dict(df_test_bundle.rej_fdr, color_dict)\n",
    "colors = [tuple(i) for i in list(colors)]\n",
    "colors = generate_disk_colors(indx, 100, colors)\n",
    "len(colors)"
   ]
  },
  {
   "cell_type": "code",
   "execution_count": null,
   "id": "42cf7a0b",
   "metadata": {},
   "outputs": [],
   "source": [
    "_,_ = plt.subplots(figsize=(10, 1))\n",
    "legend_colors = [[1,0,0], [0,0,1]]\n",
    "f = lambda m,c: plt.plot([],[],marker=m, color=c, ls=\"none\")[0]\n",
    "handles = [f(\"s\", legend_colors[i]) for i in range(2)]\n",
    "labels = ['Significant', 'Non-significant']\n",
    "legend = plt.legend(handles, labels, fontsize=16, loc=3, ncol=2, framealpha=1, frameon=True)\n",
    "\n",
    "def export_legend(legend, filename=\"legend.png\", expand=[-5,-5,5,5]):\n",
    "    fig  = legend.figure\n",
    "    fig.canvas.draw()\n",
    "    bbox  = legend.get_window_extent()\n",
    "    bbox = bbox.from_extents(*(bbox.extents + np.array(expand)))\n",
    "    bbox = bbox.transformed(fig.dpi_scale_trans.inverted())\n",
    "    fig.savefig(f\"{plot_folder}{filename}\", dpi=\"figure\", bbox_inches=bbox)\n",
    "\n",
    "export_legend(legend)\n",
    "plt.show()"
   ]
  },
  {
   "cell_type": "code",
   "execution_count": null,
   "id": "6abbeb5a",
   "metadata": {},
   "outputs": [],
   "source": [
    "'''visualize streamlines based on t-test results'''\n",
    "scene = window.Scene()\n",
    "scene.SetBackground(1, 1, 1)\n",
    "\n",
    "# scene.set_camera(position=pos, \n",
    "#                  focal_point=foc,\n",
    "#                  view_up=vup)\n",
    "\n",
    "scene.add(actor.line(lines, fake_tube=True, linewidth=6, colors=colors))\n",
    "window.show(scene, size=(1000,1000), reset_camera=False)\n",
    "window.record(scene, size=(1200, 1200), out_path=f'{plot_folder}vis_{bundle}_ttest_seg{suffix}.png')\n",
    "pos, foc, vup = scene.get_camera()"
   ]
  },
  {
   "cell_type": "code",
   "execution_count": null,
   "id": "6e16a23b",
   "metadata": {},
   "outputs": [],
   "source": [
    "'''Make colormap based on MAE'''\n",
    "# cmap = plt.get_cmap('gray_r')(np.linspace(0, 1, 256))[:,:3]\n",
    "\n",
    "values = df_test_bundle.Dementia\n",
    "norm = mpl.colors.Normalize(vmin=0, \n",
    "                            vmax=3)\n",
    "cmap = plt.get_cmap('jet')\n",
    "cmap = mpl.cm.ScalarMappable(norm=norm, cmap=cmap)\n",
    "colors = cmap.to_rgba(values)[:,:3]\n",
    "colors = [tuple(i) for i in list(colors)]\n",
    "print(len(colors))\n",
    "\n",
    "fig, ax = plt.subplots(figsize=(6, 1))\n",
    "fig.subplots_adjust(bottom=0.5)\n",
    "fig.colorbar(cmap, cax=ax, orientation='horizontal', label='MAE')\n",
    "\n",
    "colors = generate_disk_colors(indx, 100, colors)\n",
    "len(colors)"
   ]
  },
  {
   "cell_type": "code",
   "execution_count": null,
   "id": "f63dd0c3",
   "metadata": {},
   "outputs": [],
   "source": [
    "'''visualize streamlines based on MAE'''\n",
    "scene = window.Scene()\n",
    "scene.SetBackground(1, 1, 1)\n",
    "\n",
    "scene.set_camera(position=pos, \n",
    "                 focal_point=foc,\n",
    "                 view_up=vup)\n",
    "\n",
    "scene.add(actor.line(lines, fake_tube=True, linewidth=6, colors=colors))\n",
    "window.show(scene, size=(1000,1000), reset_camera=False)\n",
    "window.record(scene, size=(1200, 1200), out_path=f'{plot_folder}vis_{bundle}_mae_seg{suffix}.png')"
   ]
  },
  {
   "cell_type": "code",
   "execution_count": null,
   "id": "009e4ac3",
   "metadata": {},
   "outputs": [],
   "source": [
    "pos, foc, vup = scene.get_camera()"
   ]
  }
 ],
 "metadata": {
  "kernelspec": {
   "display_name": "Python 3 (ipykernel)",
   "language": "python",
   "name": "python3"
  },
  "language_info": {
   "codemirror_mode": {
    "name": "ipython",
    "version": 3
   },
   "file_extension": ".py",
   "mimetype": "text/x-python",
   "name": "python",
   "nbconvert_exporter": "python",
   "pygments_lexer": "ipython3",
   "version": "3.9.12"
  },
  "toc": {
   "base_numbering": 1,
   "nav_menu": {},
   "number_sections": true,
   "sideBar": true,
   "skip_h1_title": false,
   "title_cell": "Table of Contents",
   "title_sidebar": "Contents",
   "toc_cell": false,
   "toc_position": {
    "height": "calc(100% - 180px)",
    "left": "10px",
    "top": "150px",
    "width": "233.993px"
   },
   "toc_section_display": true,
   "toc_window_display": true
  }
 },
 "nbformat": 4,
 "nbformat_minor": 5
}
